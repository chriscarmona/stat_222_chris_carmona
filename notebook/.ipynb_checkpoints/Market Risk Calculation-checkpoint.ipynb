{
 "metadata": {
  "name": ""
 },
 "nbformat": 3,
 "nbformat_minor": 0,
 "worksheets": [
  {
   "cells": [
    {
     "cell_type": "heading",
     "level": 1,
     "metadata": {},
     "source": [
      "Market Risk Calculation"
     ]
    },
    {
     "cell_type": "heading",
     "level": 2,
     "metadata": {},
     "source": [
      "Parameter definition"
     ]
    },
    {
     "cell_type": "code",
     "collapsed": false,
     "input": [
      "import numpy as np\n",
      "import pandas as pd\n",
      "\n",
      "# Data directory #\n",
      "data_dir = '/Users/Chris/Documents/26 UC Berkeley/03 Courses/STAT 222/stat_222_chris_carmona/data/'\n",
      "port_date = '.csv'"
     ],
     "language": "python",
     "metadata": {},
     "outputs": [],
     "prompt_number": 4
    },
    {
     "cell_type": "heading",
     "level": 2,
     "metadata": {},
     "source": [
      "Portfolio loading"
     ]
    },
    {
     "cell_type": "code",
     "collapsed": false,
     "input": [
      "# Portfolio #\n",
      "port_file = 'port_2013-12.csv'\n",
      "port = pd.read_csv( data_dir + port_file , na_values=['','NA','na','NaN','NULL'] )\n",
      "\n",
      "port"
     ],
     "language": "python",
     "metadata": {},
     "outputs": [
      {
       "html": [
        "<pre>\n",
        "&lt;class 'pandas.core.frame.DataFrame'&gt;\n",
        "Int64Index: 383 entries, 0 to 382\n",
        "Data columns (total 2 columns):\n",
        "id_instr    383  non-null values\n",
        "position    383  non-null values\n",
        "dtypes: float64(1), object(1)\n",
        "</pre>"
       ],
       "metadata": {},
       "output_type": "pyout",
       "prompt_number": 13,
       "text": [
        "<class 'pandas.core.frame.DataFrame'>\n",
        "Int64Index: 383 entries, 0 to 382\n",
        "Data columns (total 2 columns):\n",
        "id_instr    383  non-null values\n",
        "position    383  non-null values\n",
        "dtypes: float64(1), object(1)"
       ]
      }
     ],
     "prompt_number": 13
    },
    {
     "cell_type": "heading",
     "level": 2,
     "metadata": {},
     "source": [
      "Global Data bases loading"
     ]
    },
    {
     "cell_type": "code",
     "collapsed": false,
     "input": [
      "# Global databases #\n",
      "\n",
      "# instruments description #\n",
      "instr_info_file = 'instr_description.csv'\n",
      "instr_info = pd.read_csv( data_dir + instr_info_file , na_values=['','NA','na','NaN','NULL'] )\n",
      "\n",
      "# Risk factors description #\n",
      "curves_info_file = 'curve_nodes_description.csv'\n",
      "curves_info = pd.read_csv( data_dir + curves_info_file , na_values=['','NA','na','NaN','NULL'] )\n",
      "\n",
      "# fixed-income instruments cashflows #\n",
      "cshf_info_file = 'instr_cashflows.csv'\n",
      "cshf_info = pd.read_csv( data_dir + cshf_info_file , na_values=['','NA','na','NaN','NULL'] )\n"
     ],
     "language": "python",
     "metadata": {},
     "outputs": [],
     "prompt_number": 5
    },
    {
     "cell_type": "heading",
     "level": 2,
     "metadata": {},
     "source": [
      "Risk Factors historical information loading"
     ]
    },
    {
     "cell_type": "code",
     "collapsed": false,
     "input": [
      "# Risk factor historical data #\n",
      "fact_hist_file = 'factor_hist.csv'\n",
      "fact_hist = pd.read_csv( data_dir + fact_hist_file , na_values=['','NA','na','NaN','NULL'] )\n"
     ],
     "language": "python",
     "metadata": {},
     "outputs": [],
     "prompt_number": 6
    },
    {
     "cell_type": "heading",
     "level": 2,
     "metadata": {},
     "source": [
      "Risk factors scenario simulation"
     ]
    },
    {
     "cell_type": "code",
     "collapsed": false,
     "input": [
      "# Covariance matrix estimation\n",
      "\n",
      "# Multivariate normal simulation\n"
     ],
     "language": "python",
     "metadata": {},
     "outputs": [],
     "prompt_number": 7
    },
    {
     "cell_type": "heading",
     "level": 2,
     "metadata": {},
     "source": [
      "Portfolio valuation"
     ]
    },
    {
     "cell_type": "code",
     "collapsed": false,
     "input": [
      "# Under base scenario\n",
      "\n",
      "# Under simulated scenario"
     ],
     "language": "python",
     "metadata": {},
     "outputs": [],
     "prompt_number": 8
    },
    {
     "cell_type": "heading",
     "level": 2,
     "metadata": {},
     "source": [
      "Profit and losses distribution"
     ]
    },
    {
     "cell_type": "code",
     "collapsed": false,
     "input": [
      "# "
     ],
     "language": "python",
     "metadata": {},
     "outputs": [],
     "prompt_number": 9
    },
    {
     "cell_type": "heading",
     "level": 2,
     "metadata": {},
     "source": [
      "Value-at-Risk (VaR) estimation"
     ]
    },
    {
     "cell_type": "code",
     "collapsed": false,
     "input": [
      "#"
     ],
     "language": "python",
     "metadata": {},
     "outputs": [],
     "prompt_number": 10
    },
    {
     "cell_type": "heading",
     "level": 2,
     "metadata": {},
     "source": [
      "Conditional Value-at-Risk (CVaR) estimation"
     ]
    },
    {
     "cell_type": "code",
     "collapsed": false,
     "input": [],
     "language": "python",
     "metadata": {},
     "outputs": []
    }
   ],
   "metadata": {}
  }
 ]
}