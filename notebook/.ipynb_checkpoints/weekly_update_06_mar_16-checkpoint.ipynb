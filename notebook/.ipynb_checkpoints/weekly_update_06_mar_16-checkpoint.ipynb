{
 "metadata": {
  "name": ""
 },
 "nbformat": 3,
 "nbformat_minor": 0,
 "worksheets": [
  {
   "cells": [
    {
     "cell_type": "heading",
     "level": 1,
     "metadata": {},
     "source": [
      "Weekly update 06"
     ]
    },
    {
     "cell_type": "heading",
     "level": 2,
     "metadata": {},
     "source": [
      "Week 6: Mar 10 - Mar 16, 2014"
     ]
    },
    {
     "cell_type": "markdown",
     "metadata": {},
     "source": [
      "This has been the most productive week I've had for this project.\n",
      "\n",
      "I have to present my findings next wednesday (march 19, 2014) and I consider that I'm ready to do it.\n",
      "\n",
      "Basically, this week I finished the implementation of Risk metrics methodology in python.\n",
      "\n",
      "The implementation can be found in the following ipython notebook:\n",
      "https://github.com/christianu7/stat_222_chris_carmona/blob/master/notebook/Market%20Risk%20Calculation.ipynb\n",
      "\n",
      "Briefly, the notebook includes the completion of the following tasks:\n",
      "\n",
      "<ul>\n",
      "\n",
      "<li> Portfolio positions loading</li>\n",
      "<li>Download Data:</li>\n",
      "<ol>\n",
      "<li>Historical yield-to-maturity of US government bonds</li>\n",
      "Source: US Department of Treasury (www.treasury.gov)\n",
      "<li>Historical foreign currencies exchange rates</li>\n",
      "Source: US Federal Reserve www.federalreserve.gov\n",
      "</ol>\n",
      "\n",
      "<li>Reading and cleaning the data contained in xml format.</li>\n",
      "\n",
      "<li>Calculating implicit zero-coupon interest rates from ytm rates</li>\n",
      "\n",
      "<li>Merging both sources of data</li>\n",
      "\n",
      "<li>Generate simulated scenarios for this risk factors:</li>\n",
      "<ol>\n",
      "<li>Calculating log-returns</li>\n",
      "<li>Estimate covariance matrix using an exponential weighted estimator</li>\n",
      "<li>Generate simulated returns using a multivariate normal distribution</li>\n",
      "<li>Generate simulated risk factors by applying simulated returns to a baseline scenario</li>\n",
      "</ol>\n",
      "\n",
      "<li>Identification of cashflows in portfolio</li>\n",
      "\n",
      "<li>Valuation of cashflows for all instruments in portfolio</li>\n",
      "<ol>\n",
      "<li>Under baseline scenario</li>\n",
      "<li>Under simulated scenarios</li>\n",
      "</ol>\n",
      "\n",
      "<li>Calculate simulated P&L (profit and losses)</li>\n",
      "\n",
      "<li>Estimate distribution of profit and losses</li>\n",
      "\n",
      "<li>Estimate Value-at-Risk (quantiles) from the simulated distribution of P&L</li>\n",
      "\n",
      "<li>Results reporting</li>\n",
      "<ol>\n",
      "<li>Write csv files</li>\n",
      "<li>Plot distribution and historical data</li>\n",
      "</ol>\n",
      "\n",
      "<li>BACKTESTING</li>\n",
      "<ol>\n",
      "<li>Repeat this calculation for 2013</li>\n",
      "<li>Asses the goodness of VaR prediction</li>\n",
      "</ol>\n",
      "\n",
      "</ul>\n",
      "\n",
      "The presentation for wednesday can be found here:\n",
      "https://github.com/christianu7/stat_222_chris_carmona/blob/master/Midterm/STAT%20220%20Midterm.pptx"
     ]
    },
    {
     "cell_type": "code",
     "collapsed": false,
     "input": [],
     "language": "python",
     "metadata": {},
     "outputs": []
    }
   ],
   "metadata": {}
  }
 ]
}