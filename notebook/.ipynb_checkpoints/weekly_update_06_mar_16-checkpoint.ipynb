{
 "metadata": {
  "name": ""
 },
 "nbformat": 3,
 "nbformat_minor": 0,
 "worksheets": [
  {
   "cells": [
    {
     "cell_type": "heading",
     "level": 1,
     "metadata": {},
     "source": [
      "Weekly update 06"
     ]
    },
    {
     "cell_type": "heading",
     "level": 2,
     "metadata": {},
     "source": [
      "Week 6: Mar 10 - Mar 16, 2014"
     ]
    },
    {
     "cell_type": "markdown",
     "metadata": {},
     "source": [
      "This has been the most productive week I've had for this project.\n",
      "\n",
      "I have to present my findings next wednesday (march 19, 2014) and I consider that I'm ready to do it.\n",
      "\n",
      "Basically, this week I finished the implementation of Risk metrics methodology in python.\n",
      "The implementation can be found in:\n",
      "\n",
      "\n",
      "\n",
      "I found realible and public data providors for interest rates and currencies\n"
     ]
    },
    {
     "cell_type": "code",
     "collapsed": false,
     "input": [],
     "language": "python",
     "metadata": {},
     "outputs": []
    }
   ],
   "metadata": {}
  }
 ]
}