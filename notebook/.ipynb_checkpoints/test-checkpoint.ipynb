{
 "metadata": {
  "name": ""
 },
 "nbformat": 3,
 "nbformat_minor": 0,
 "worksheets": [
  {
   "cells": [
    {
     "cell_type": "code",
     "collapsed": false,
     "input": [
      "import numpy as np\n",
      "import pandas as pd\n",
      "import pycurl\n",
      "import cStringIO\n",
      "from lxml import etree\n",
      "#import xml.etree.ElementTree as etree\n",
      "\n",
      "url = 'http://www.treasury.gov/resource-center/data-chart-center/interest-rates/pages/XmlView.aspx?data=yieldyear&year=2013'\n",
      "\n",
      "# xml document\n",
      "doc = etree.parse(url)\n",
      "# root element: 254 elements\n",
      "root = doc.getroot()\n",
      "\n",
      "rates_data = []\n",
      "for entries in root.findall('{http://www.w3.org/2005/Atom}entry'):    \n",
      "    for content_i in entries.find('{http://www.w3.org/2005/Atom}content'):\n",
      "        row_i = {}\n",
      "        for property_i in content_i.getchildren():\n",
      "            row_i[ property_i.tag.replace('{http://schemas.microsoft.com/ado/2007/08/dataservices}','') ] = property_i.text\n",
      "        rates_data.append(row_i)\n",
      "\n",
      "rates_data = pd.DataFrame(rates_data)\n",
      "#rates_data.rename(columns={''})\n",
      "\n",
      "#rates_data.NEW_DATE.values.strftime(\"%Y-%m-%d\")\n",
      "rates_data.NEW_DATE.astype(np.string_)\n",
      "rates_data.NEW_DATE.dtype"
     ],
     "language": "python",
     "metadata": {},
     "outputs": [
      {
       "metadata": {},
       "output_type": "pyout",
       "prompt_number": 209,
       "text": [
        "dtype('O')"
       ]
      }
     ],
     "prompt_number": 209
    },
    {
     "cell_type": "code",
     "collapsed": false,
     "input": [],
     "language": "python",
     "metadata": {},
     "outputs": []
    }
   ],
   "metadata": {}
  }
 ]
}