{
 "metadata": {
  "name": ""
 },
 "nbformat": 3,
 "nbformat_minor": 0,
 "worksheets": [
  {
   "cells": [
    {
     "cell_type": "heading",
     "level": 1,
     "metadata": {},
     "source": [
      "Project Weekly Update"
     ]
    },
    {
     "cell_type": "heading",
     "level": 2,
     "metadata": {},
     "source": [
      "Week 1: feb 3 - feb 9, 2014"
     ]
    },
    {
     "cell_type": "markdown",
     "metadata": {},
     "source": [
      "I would summarize my advances on the project during this week in three main points\n",
      "\n",
      "<ol start=\"1\">\n",
      "<li>\n",
      "I set up and started to become familiar with the technological tools of Github and iPython notebook that will help to maintain my research controled by versions and accessible to the public.\n",
      "</li>\n",
      "</ol>\n",
      "\n",
      "*GitHub* : Set-up my account, and created the working directory for the research project:\n",
      "\n",
      "https://github.com/christianu7/stat_222_chris_carmona/\n",
      "\n",
      "*iPython notebook*: Installed *Anaconda* software into my computer, and learned the basic features and published my first document where I pretend to keep track of my progress.\n",
      "https://github.com/christianu7/stat_222_chris_carmona/notebook/\n",
      "\n",
      "<ol start=\"2\">\n",
      "<li>\n",
      "I found and obtain valuable literature on topics related with my research.\n",
      "</li>\n",
      "</ol>\n",
      "https://github.com/christianu7/stat_222_chris_carmona/documentation/\n",
      "\n",
      "\n",
      "<ol start=\"3\">\n",
      "<li>\n",
      "I found, downloaded and formated historical data for the financial factors that will serve as a main input for estimating the parameters in the optimized models. This data includes exchange rates for 12 currencies, interest rates for the US government bond in the main nodes of the yield curve: 1, 3 and 6 months, 1, 2, 3, 5, 7, 9, 10, 15, 20 and 30 years and equivalently for canadian sovereign bonds.\n",
      "</li>\n",
      "</ol>\n",
      "https://github.com/christianu7/stat_222_chris_carmona/data/factor_hist.csv\n",
      "\n",
      "\n"
     ]
    },
    {
     "cell_type": "code",
     "collapsed": false,
     "input": [],
     "language": "python",
     "metadata": {},
     "outputs": []
    }
   ],
   "metadata": {}
  }
 ]
}