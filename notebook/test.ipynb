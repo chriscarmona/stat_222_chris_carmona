{
 "metadata": {
  "name": ""
 },
 "nbformat": 3,
 "nbformat_minor": 0,
 "worksheets": [
  {
   "cells": [
    {
     "cell_type": "code",
     "collapsed": false,
     "input": [
      "import numpy as np\n",
      "import matplotlib.pyplot as plt\n",
      "from scipy.interpolate import interp1d\n",
      "\n",
      "x = np.linspace(0, 10, 10)\n",
      "y = np.cos(-x**2/8.0)\n",
      "f = interp1d(x, y)\n",
      "f2 = interp1d(x, y, kind='cubic')\n",
      "xnew = np.linspace(0, 10, 40)\n",
      "print x\n",
      "print y\n",
      "print f\n",
      "\n",
      "plt.plot(x,y,'o',xnew,f(xnew),'-', xnew, f2(xnew),'--')\n",
      "plt.legend(['data', 'linear', 'cubic'], loc='best')\n",
      "plt.show()"
     ],
     "language": "python",
     "metadata": {},
     "outputs": [
      {
       "output_type": "stream",
       "stream": "stdout",
       "text": [
        "[  0.           1.11111111   2.22222222   3.33333333   4.44444444\n",
        "   5.55555556   6.66666667   7.77777778   8.88888889  10.        ]\n",
        "[ 1.          0.98811613  0.81545357  0.18090587 -0.78229363 -0.7541536\n",
        "  0.74675295  0.28811065 -0.89967788  0.99779828]\n",
        "<scipy.interpolate.interpolate.interp1d object at 0x10840ce90>\n"
       ]
      }
     ],
     "prompt_number": 6
    },
    {
     "cell_type": "code",
     "collapsed": false,
     "input": [
      "import numpy as np\n",
      "import matplotlib.pyplot as plt\n",
      "from scipy import interpolate\n",
      "\n",
      "x = np.arange(0,2*np.pi+np.pi/4,2*np.pi/8)\n",
      "y = np.sin(x)\n",
      "tck = interpolate.splrep(x,y,s=0)\n",
      "xnew = np.arange(0,2*np.pi,np.pi/50)\n",
      "ynew = interpolate.splev(xnew,tck,der=0)\n",
      "\n",
      "\n",
      "plt.plot(x,y,'x',xnew,ynew,xnew,np.sin(xnew),x,y,'b')\n",
      "plt.legend(['Linear','Cubic Spline', 'True'])\n",
      "plt.show()"
     ],
     "language": "python",
     "metadata": {},
     "outputs": [],
     "prompt_number": 7
    },
    {
     "cell_type": "code",
     "collapsed": false,
     "input": [
      "range(1,2)"
     ],
     "language": "python",
     "metadata": {},
     "outputs": [
      {
       "metadata": {},
       "output_type": "pyout",
       "prompt_number": 2,
       "text": [
        "[1]"
       ]
      }
     ],
     "prompt_number": 2
    },
    {
     "cell_type": "code",
     "collapsed": false,
     "input": [],
     "language": "python",
     "metadata": {},
     "outputs": []
    }
   ],
   "metadata": {}
  }
 ]
}