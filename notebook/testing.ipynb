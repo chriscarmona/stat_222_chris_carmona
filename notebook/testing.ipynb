{
 "metadata": {
  "name": ""
 },
 "nbformat": 3,
 "nbformat_minor": 0,
 "worksheets": [
  {
   "cells": [
    {
     "cell_type": "heading",
     "level": 1,
     "metadata": {},
     "source": [
      "Testing Module"
     ]
    },
    {
     "cell_type": "markdown",
     "metadata": {},
     "source": [
      "I realized that the fundamental parts in my code that are subject to errors and have to be tested in order to ensure a proper output are the following:\n",
      "\n",
      "1. All the instruments defined in the portfolio are contained in the cashflows databases\n",
      "2. Zero-coupon rates are being correctly calculated from yield to maturity values.\n",
      "3. Valuation of a given instrument with a known set of rates is correct.\n",
      "\n"
     ]
    },
    {
     "cell_type": "heading",
     "level": 3,
     "metadata": {},
     "source": [
      "Test 1: Portfolio cashflows are known"
     ]
    },
    {
     "cell_type": "code",
     "collapsed": false,
     "input": [
      "%%file test_01_instr_cshf.py\n",
      "\n",
      "import numpy as np\n",
      "import pandas as pd\n",
      "import matplotlib.pyplot as plt\n",
      "import urllib\n",
      "import zipfile\n",
      "\n",
      "from lxml import etree\n",
      "from scipy.interpolate import interp1d\n",
      "from datetime import datetime, timedelta\n",
      "from matplotlib.backends.backend_pdf import PdfPages\n",
      "\n",
      "# Data directory #\n",
      "data_dir = '/Users/Chris/Documents/26 UC Berkeley/03 Courses/STAT 222/stat_222_chris_carmona/data/'\n",
      "out_dir = '/Users/Chris/Documents/26 UC Berkeley/03 Courses/STAT 222/stat_222_chris_carmona/output/'\n",
      "\n",
      "# Portfolio file #\n",
      "port_file = 'port_2013-12.csv'\n",
      "\n",
      "# Portfolio #\n",
      "port = pd.read_csv( data_dir + port_file , na_values=['','NA','na','NaN','NULL'] )\n",
      "\n",
      "port = pd.Series(port.position.values,index=port.id_instr)\n",
      "\n",
      "# fixed-income instruments cashflows #\n",
      "cshf_info_file = 'instr_cashflows.csv'\n",
      "cshf_info = pd.read_csv( data_dir + cshf_info_file , na_values=['','NA','na','NaN','NULL'] )\n",
      "cshf_info['Date'] = pd.to_datetime(cshf_info['Date'])\n",
      "cshf_info = cshf_info.groupby(['id_instr','Date'])['value'].sum()\n",
      "\n",
      "def test_1():\n",
      "\n",
      "    instr_name_len = np.array( [ len(i) for i in  port.index.values ] )\n",
      "    instr_port = port.index.values[ instr_name_len == 12 ]\n",
      "    \n",
      "    instr_port_defined = [ (i in cshf_info.unstack().index.values) for i in instr_port ]\n",
      "    \n",
      "    result = all(instr_port_defined) \n",
      "    print 'Checking all instruments cashflows defined:', result\n",
      "    assert result == True\n",
      "\n",
      "test_1()\n"
     ],
     "language": "python",
     "metadata": {},
     "outputs": [
      {
       "output_type": "stream",
       "stream": "stdout",
       "text": [
        "Writing test_01_instr_cshf.py\n"
       ]
      }
     ],
     "prompt_number": 14
    },
    {
     "cell_type": "heading",
     "level": 3,
     "metadata": {},
     "source": [
      "Test 2: Zero-coupon calculation"
     ]
    },
    {
     "cell_type": "code",
     "collapsed": false,
     "input": [
      "%%file test_02_rates.py\n",
      "\n",
      "import numpy as np\n",
      "import pandas as pd\n",
      "import matplotlib.pyplot as plt\n",
      "import urllib\n",
      "import zipfile\n",
      "\n",
      "from lxml import etree\n",
      "from scipy.interpolate import interp1d\n",
      "from datetime import datetime, timedelta\n",
      "from matplotlib.backends.backend_pdf import PdfPages\n",
      "\n",
      "# Data directory #\n",
      "data_dir = '/Users/Chris/Documents/26 UC Berkeley/03 Courses/STAT 222/stat_222_chris_carmona/data/'\n",
      "out_dir = '/Users/Chris/Documents/26 UC Berkeley/03 Courses/STAT 222/stat_222_chris_carmona/output/'\n",
      "\n",
      "# Portfolio file #\n",
      "port_file = 'port_2013-12.csv'\n",
      "\n",
      "# Portfolio #\n",
      "port = pd.read_csv( data_dir + port_file , na_values=['','NA','na','NaN','NULL'] )\n",
      "\n",
      "port = pd.Series(port.position.values,index=port.id_instr)\n",
      "\n",
      "# fixed-income instruments cashflows #\n",
      "cshf_info_file = 'instr_cashflows.csv'\n",
      "cshf_info = pd.read_csv( data_dir + cshf_info_file , na_values=['','NA','na','NaN','NULL'] )\n",
      "cshf_info['Date'] = pd.to_datetime(cshf_info['Date'])\n",
      "cshf_info = cshf_info.groupby(['id_instr','Date'])['value'].sum()\n",
      "\n",
      "def zero_from_yield_bootstrap( ytm_curve , nodes ):\n",
      "\n",
      "    nodes_old = nodes.copy()\n",
      "    nodes = np.append(0,nodes)\n",
      "    ytm_curve = np.append(0,ytm_curve)\n",
      "    \n",
      "    nodes_new = np.arange(0,max(nodes)+0.5,0.5)\n",
      "    nodes_new = np.append(nodes,nodes_new)\n",
      "    nodes_new = np.sort(nodes_new)\n",
      "    nodes_new = np.unique(nodes_new)\n",
      "        \n",
      "    f = interp1d(nodes, ytm_curve, kind='linear')\n",
      "    ytm_new = f(nodes_new)\n",
      "    ytm_new[0]=0\n",
      "    \n",
      "    ytm_new = pd.Series(ytm_new,index=nodes_new)\n",
      "    zero_new = np.zeros_like(ytm_new)\n",
      "    \n",
      "    nodes_coupon = np.in1d(nodes_new,np.arange(0,max(nodes),0.5)+0.5)\n",
      "    \n",
      "    for node_i in nodes_new[nodes_coupon==False]:\n",
      "        zero_new[node_i] = (1+ytm_new[node_i]*node_i) ** (1/node_i)-1\n",
      "    zero_new[0] = 0\n",
      "    \n",
      "    \n",
      "    for node_i in nodes_new[nodes_coupon]:\n",
      "        cpn_i = ytm_new[node_i]/2\n",
      "        zero_new[node_i] = - np.log( (1 - cpn_i * np.exp(-nodes_new[ nodes_new<node_i * nodes_coupon ] * zero_new[ nodes_new<node_i * nodes_coupon ]).sum())/(1+cpn_i) ) * (1/node_i)\n",
      "\n",
      "        \n",
      "    return zero_new[np.in1d(nodes_new,nodes_old)].values\n",
      "\n",
      "def test_2():\n",
      "    nodes = np.array(range(1,31),dtype=np.float64)\n",
      "    ytm_curve_test = pd.Series( np.zeros_like(nodes)+0.05 , index=nodes)\n",
      "    zero_curve_test = zero_from_yield_bootstrap( ytm_curve=ytm_curve_test.values , nodes=nodes )\n",
      "    zero_curve_test = np.array( [ round(rate, 2) for rate in zero_curve_test ],dtype=np.float64)\n",
      "    result = all( ytm_curve_test == zero_curve_test )\n",
      "    \n",
      "    print 'Checking zero rates:', result\n",
      "    assert result == True\n",
      "\n",
      "test_2()"
     ],
     "language": "python",
     "metadata": {},
     "outputs": [
      {
       "output_type": "stream",
       "stream": "stdout",
       "text": [
        "Overwriting test_02_rates.py\n"
       ]
      }
     ],
     "prompt_number": 11
    },
    {
     "cell_type": "heading",
     "level": 3,
     "metadata": {},
     "source": [
      "Test 3-4: Instrument valuation"
     ]
    },
    {
     "cell_type": "code",
     "collapsed": false,
     "input": [
      "%%file test_03_valuation.py\n",
      "\n",
      "import numpy as np\n",
      "import pandas as pd\n",
      "import matplotlib.pyplot as plt\n",
      "import urllib\n",
      "import zipfile\n",
      "\n",
      "from lxml import etree\n",
      "from scipy.interpolate import interp1d\n",
      "from datetime import datetime, timedelta\n",
      "from matplotlib.backends.backend_pdf import PdfPages\n",
      "\n",
      "# Data directory #\n",
      "data_dir = '/Users/Chris/Documents/26 UC Berkeley/03 Courses/STAT 222/stat_222_chris_carmona/data/'\n",
      "out_dir = '/Users/Chris/Documents/26 UC Berkeley/03 Courses/STAT 222/stat_222_chris_carmona/output/'\n",
      "\n",
      "# Portfolio file #\n",
      "port_file = 'port_2013-12.csv'\n",
      "\n",
      "# Portfolio #\n",
      "port = pd.read_csv( data_dir + port_file , na_values=['','NA','na','NaN','NULL'] )\n",
      "\n",
      "port = pd.Series(port.position.values,index=port.id_instr)\n",
      "\n",
      "# fixed-income instruments cashflows #\n",
      "cshf_info_file = 'instr_cashflows.csv'\n",
      "cshf_info = pd.read_csv( data_dir + cshf_info_file , na_values=['','NA','na','NaN','NULL'] )\n",
      "cshf_info['Date'] = pd.to_datetime(cshf_info['Date'])\n",
      "cshf_info = cshf_info.groupby(['id_instr','Date'])['value'].sum()\n",
      "\n",
      "# instruments description #\n",
      "instr_info_file = 'instr_description.csv'\n",
      "instr_info = pd.read_csv( data_dir + instr_info_file , na_values=['','NA','na','NaN','NULL'] )\n",
      "\n",
      "currencies = ['AUD', 'CAD', 'CHF', 'CLP', 'EUR', 'GBP', 'JPY', 'NOK', 'NZD', 'SEK', 'SGD']\n",
      "# Flip all currencies to dollars per curency\n",
      "cur_usd = ['AUD', 'EUR', 'GBP', 'NZD']\n",
      "cur_flip = list(set(currencies).difference(set(cur_usd)))\n",
      "\n",
      "\n",
      "nodes = np.array([1,3,6],dtype=np.float64)\n",
      "nodes = nodes/12\n",
      "nodes = np.append(nodes, np.array([1,2,3,5,7,10,20,30],dtype=np.float64) )\n",
      "nodes_names = ['GOVT_USD_USA_1m','GOVT_USD_USA_3m','GOVT_USD_USA_6m',\n",
      "               'GOVT_USD_USA_1y','GOVT_USD_USA_2y','GOVT_USD_USA_3y',\n",
      "               'GOVT_USD_USA_5y','GOVT_USD_USA_7y','GOVT_USD_USA_10y',\n",
      "               'GOVT_USD_USA_20y','GOVT_USD_USA_30y']\n",
      "\n",
      "def port_valuation( port, calc_date, risk_factors, instr_info, cshf_info):\n",
      "    # Cash flows for bonds\n",
      "    bonds_cshf = cshf_info.ix[ port.index.values ].unstack('id_instr')\n",
      "    bonds_cshf = bonds_cshf[bonds_cshf.index>=calc_date]\n",
      "    bonds_cshf = bonds_cshf/1000000\n",
      "    bonds_cshf = bonds_cshf * port[bonds_cshf.columns]\n",
      "    \n",
      "    # Cash flows for currencies\n",
      "    ccy_cshf = port[currencies].dropna()\n",
      "    ccy_cshf = pd.DataFrame( ccy_cshf.values, index=ccy_cshf.index, columns=[calc_date] ).T\n",
      "    if 'USD' in port.index:\n",
      "        ccy_cshf['USD'] = port['USD']\n",
      "    \n",
      "    # cashflows for all the portfolio\n",
      "    port_cshf = pd.merge( ccy_cshf, bonds_cshf, left_index=True, right_index=True, how='outer' )\n",
      "    port_cshf.dropna( how='all' )\n",
      "    \n",
      "    # Discount factors calculation\n",
      "    discount = pd.Series( np.array(risk_factors[nodes_names].values) ,\n",
      "                         index=[ calc_date + pd.DateOffset(days=x*365) for x in nodes ] )\n",
      "    discount = np.exp(-discount * nodes)\n",
      "    discount = discount.set_value(calc_date, 1)\n",
      "    discount = discount.reindex( index= discount.index.append(port_cshf.index).unique() )\n",
      "    discount = discount.sort_index()\n",
      "    discount = discount.interpolate(method=\"time\")\n",
      "    discount = discount.reindex( index=port_cshf.index)\n",
      "    \n",
      "    # present value\n",
      "    port_cshf_pv = discount * port_cshf\n",
      "    \n",
      "    # present value in USD\n",
      "    ccy_instr = instr_info.ix[ instr_info.id_instr.isin(port.index), ['id_instr','currency']]\n",
      "    ccy_instr = ccy_instr.set_index('id_instr').currency\n",
      "    \n",
      "    #print port_cshf_pv.ix[:1,\"JPY\"]\n",
      "    \n",
      "    for ccy in ccy_instr[ ccy_instr != 'USD' ].unique():\n",
      "        instr_ccy = ccy_instr[ccy_instr == ccy].index.values\n",
      "        if ccy in cur_flip:\n",
      "            port_cshf_pv[instr_ccy] = port_cshf_pv[instr_ccy] / risk_factors[ccy]\n",
      "        else:\n",
      "            port_cshf_pv[instr_ccy] = port_cshf_pv[instr_ccy] * risk_factors[ccy]\n",
      "    \n",
      "    #print port_cshf_pv.ix[:1,\"JPY\"]\n",
      "    port_mtm_value = port_cshf_pv.sum(axis=0)[port.index]\n",
      "    return port_mtm_value\n",
      "\n",
      "def test_3():\n",
      "    risk_factors_test = pd.Series( [1.5]*len(currencies) ,\n",
      "                                  index=currencies)\n",
      "    port_test = pd.Series( [1000]*len(currencies) ,\n",
      "                                  index=currencies)\n",
      "    \n",
      "    port_mtm_base = port_valuation(port=port_test,\n",
      "                                   calc_date=datetime.strptime('2013-12-30','%Y-%m-%d'),\n",
      "                                   risk_factors=risk_factors_test,\n",
      "                                   instr_info=instr_info,\n",
      "                                   cshf_info=cshf_info )\n",
      "    result = all(port_mtm_base[cur_flip] == 1000/1.5) and all(port_mtm_base[cur_usd] == 1000*1.5)\n",
      "    \n",
      "    print 'Checking currency valuation:', result\n",
      "    assert result == True\n",
      "\n",
      "\n",
      "def test_4():\n",
      "    risk_factors_test = pd.Series( nodes * 0.05 ,\n",
      "                                  index=nodes_names)\n",
      "    port_test = pd.Series( [1000] ,\n",
      "                                  index=['US912796BU23','US912796BV06'])\n",
      "    \n",
      "    port_mtm_base = port_valuation(port=port_test,\n",
      "                                   calc_date=datetime.strptime('2013-12-30','%Y-%m-%d'),\n",
      "                                   risk_factors=risk_factors_test,\n",
      "                                   instr_info=instr_info,\n",
      "                                   cshf_info=cshf_info )\n",
      "    \n",
      "    result = all( np.array( [round(i,4) for i in port_mtm_base] ) ==  np.array( [999.8060, 999.7261] ) )\n",
      "    print 'Checking Bonds valuation:', result\n",
      "    assert result == True\n",
      "\n"
     ],
     "language": "python",
     "metadata": {},
     "outputs": [
      {
       "output_type": "stream",
       "stream": "stdout",
       "text": [
        "Overwriting test_03_valuation.py\n"
       ]
      }
     ],
     "prompt_number": 12
    },
    {
     "cell_type": "heading",
     "level": 3,
     "metadata": {},
     "source": [
      "Running the tests"
     ]
    },
    {
     "cell_type": "code",
     "collapsed": false,
     "input": [
      "!nosetests -v test_01_instr_cshf.py"
     ],
     "language": "python",
     "metadata": {},
     "outputs": [
      {
       "output_type": "stream",
       "stream": "stdout",
       "text": [
        "test_01_rates.test_1 ... "
       ]
      },
      {
       "output_type": "stream",
       "stream": "stdout",
       "text": [
        "ok\r\n",
        "\r\n",
        "----------------------------------------------------------------------\r\n",
        "Ran 1 test in 4.259s\r\n",
        "\r\n",
        "OK\r\n"
       ]
      }
     ],
     "prompt_number": 13
    },
    {
     "cell_type": "code",
     "collapsed": false,
     "input": [
      "!nosetests -v test_02_rates.py"
     ],
     "language": "python",
     "metadata": {},
     "outputs": [
      {
       "output_type": "stream",
       "stream": "stdout",
       "text": [
        "test_02_rates.test_2 ... ok\r\n",
        "\r\n",
        "----------------------------------------------------------------------\r\n",
        "Ran 1 test in 0.016s\r\n",
        "\r\n",
        "OK\r\n"
       ]
      }
     ],
     "prompt_number": 15
    },
    {
     "cell_type": "code",
     "collapsed": false,
     "input": [
      "!nosetests -v test_03_valuation.py"
     ],
     "language": "python",
     "metadata": {},
     "outputs": [
      {
       "output_type": "stream",
       "stream": "stdout",
       "text": [
        "test_03_valuation.test_3 ... "
       ]
      },
      {
       "output_type": "stream",
       "stream": "stdout",
       "text": [
        "//anaconda/lib/python2.7/site-packages/pandas/core/frame.py:3879: FutureWarning: TimeSeries broadcasting along DataFrame index by default is deprecated. Please use DataFrame.<op> to explicitly broadcast arithmetic operations along the index\r\n",
        "  FutureWarning)\r\n",
        "ok\r\n",
        "test_03_valuation.test_4 ... ok\r\n",
        "\r\n",
        "----------------------------------------------------------------------\r\n",
        "Ran 2 tests in 0.040s\r\n",
        "\r\n",
        "OK\r\n"
       ]
      }
     ],
     "prompt_number": 17
    },
    {
     "cell_type": "code",
     "collapsed": false,
     "input": [],
     "language": "python",
     "metadata": {},
     "outputs": []
    }
   ],
   "metadata": {}
  }
 ]
}