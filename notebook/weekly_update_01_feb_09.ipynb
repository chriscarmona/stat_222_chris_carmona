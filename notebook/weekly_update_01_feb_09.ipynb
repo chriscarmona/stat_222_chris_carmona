{
 "metadata": {
  "name": ""
 },
 "nbformat": 3,
 "nbformat_minor": 0,
 "worksheets": [
  {
   "cells": [
    {
     "cell_type": "heading",
     "level": 1,
     "metadata": {},
     "source": [
      "Weekly update 01"
     ]
    },
    {
     "cell_type": "heading",
     "level": 2,
     "metadata": {},
     "source": [
      "Week 1: feb 3 - feb 9, 2014"
     ]
    },
    {
     "cell_type": "markdown",
     "metadata": {},
     "source": [
      "I would summarize my advances on the project during this week in three main points\n",
      "\n",
      "<ol start=\"1\">\n",
      "<li>\n",
      "I set up and started to become familiar with the technological tools of Github and iPython notebook that will help me to maintain my research controled by versions and accessible to the public.\n",
      "</li>\n",
      "</ol>\n",
      "\n",
      "*GitHub* : I set up my account, and created the working directory for the research project:\n",
      "\n",
      "https://github.com/christianu7/stat_222_chris_carmona/\n",
      "\n",
      "*iPython notebook*: Installed *Anaconda* software into my computer, learned the basic features and published my first document where I pretend to keep track of my progress.\n",
      "https://github.com/christianu7/stat_222_chris_carmona/tree/master/notebook/weekly_update.ipynb\n",
      "\n",
      "<ol start=\"2\">\n",
      "<li>\n",
      "I found and obtained valuable literature on topics closely related with my research.\n",
      "  <ul>\n",
      "    <li>Michael Puhle. Bond Portfolio Optimization. Springer, 2008</li>\n",
      "    <li>Caldeira, Moura & Santos. Bond Portfolio Optimization: A Dynamic Heteroskedastic Factor Model Approach. 2012</li>\n",
      "    <li>Korn & Koziol. Bond Portfolio Optimization: A Risk-Return Approach. </li>\n",
      "    <li>Rohan Chandrasekhar. Fixed-Income Portfolio Optimization. 2009</li>\n",
      "  </ul>\n",
      "The first element is a book published by Springer that would help me significantly in the exploration and assessment of techniques for fixed income portfolio optimization. The book covers a wide variety of topics related to fixed-income, incluiding basic terminology and quotation standards in bond markets; a mathematical description of the most commonly used models for interest rates: Heath/Jarrow/Morton, Vasicek and Hull/White; and finally, the last two chapters in the book are dedicated to review models for portfolio optimization given two different approaches: Static and Dynamic frameworks. It is also worth noting that this book makes reference to a wide range of articles and other publications that are dedicated to my research topic.\n",
      "\n",
      "</li>\n",
      "</ol>\n",
      "https://github.com/christianu7/stat_222_chris_carmona/tree/master/documentation\n",
      "\n",
      "\n",
      "<ol start=\"3\">\n",
      "<li>\n",
      "I found, downloaded and formated historical data for the financial factors that will serve as a main input for estimating the parameters in the optimized models. This data includes exchange rates for 12 currencies, interest rates for the US government bond in the main nodes of the yield curve: 1, 3 and 6 months, 1, 2, 3, 5, 7, 9, 10, 15, 20 and 30 years and equivalently for canadian sovereign bonds.\n",
      "</li>\n",
      "</ol>\n",
      "https://github.com/christianu7/stat_222_chris_carmona/tree/master/data/factor_hist.csv\n",
      "\n",
      "\n"
     ]
    },
    {
     "cell_type": "code",
     "collapsed": false,
     "input": [],
     "language": "python",
     "metadata": {},
     "outputs": []
    }
   ],
   "metadata": {}
  }
 ]
}