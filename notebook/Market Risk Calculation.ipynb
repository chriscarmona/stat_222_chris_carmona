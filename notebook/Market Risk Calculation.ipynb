{
 "metadata": {
  "name": ""
 },
 "nbformat": 3,
 "nbformat_minor": 0,
 "worksheets": [
  {
   "cells": [
    {
     "cell_type": "heading",
     "level": 1,
     "metadata": {},
     "source": [
      "Market Risk Calculation"
     ]
    },
    {
     "cell_type": "heading",
     "level": 2,
     "metadata": {},
     "source": [
      "Introduction"
     ]
    },
    {
     "cell_type": "markdown",
     "metadata": {},
     "source": [
      "Given a portfolio comprised with bonds and spot position in different currencies, what are the possible looses that my portfolio could face for variations in market prices?\n",
      "\n",
      "The main purpose of this work is to implement a methodology for calculating Market risk indicators for investment portfolios containing a variety of fixed-income securities, spot position in several currencies and gold.\n",
      "\n",
      "The main indicator to be calculated is the Value at Risk (VaR), which represents the 95% quantile of the profit and losses distribution.\n",
      "\n",
      "In order to satisfy the above-mentioned goals, It is necessary to implement one of the existing methodologies in a computational language (Python). There are different approaches for calculating market risk, and one of the most used in practice is JPMorgan\u2019s RiskMetrics.\n",
      "\n",
      "The processes for calculating this measures include the following steps:\n",
      "\n",
      "1. Define a portfolio\n",
      "2. Identify market variables that affect the price of assets in the portfolio, namely risk factors\n",
      "3. Obtain historical data for the risk factors\n",
      "4. Calculate de covariance matrix of risk factors\n",
      "5. Simulate market scenarios\n",
      "6. Evaluate portfolio market value under simulated scenarios\n",
      "7. Estimate the probability distribution of Profit and Losses in USD\n",
      "\n",
      "The output of the process is a simulated distribution of profit and losses for each position in the portfolio. This enable the user to aggregate instruments by type, maturity, currency, etc. and perform risk attribution analysis."
     ]
    },
    {
     "cell_type": "heading",
     "level": 4,
     "metadata": {},
     "source": [
      "Parameter definition"
     ]
    },
    {
     "cell_type": "code",
     "collapsed": false,
     "input": [
      "%pylab inline"
     ],
     "language": "python",
     "metadata": {},
     "outputs": [
      {
       "output_type": "stream",
       "stream": "stdout",
       "text": [
        "Populating the interactive namespace from numpy and matplotlib\n"
       ]
      }
     ],
     "prompt_number": 1
    },
    {
     "cell_type": "code",
     "collapsed": false,
     "input": [
      "import numpy as np\n",
      "import pandas as pd\n",
      "import matplotlib.pyplot as plt\n",
      "import urllib\n",
      "import zipfile\n",
      "\n",
      "from lxml import etree\n",
      "from scipy.interpolate import interp1d\n",
      "from datetime import datetime, timedelta\n",
      "from matplotlib.backends.backend_pdf import PdfPages\n",
      "\n",
      "\n",
      "# FOR READING and SAVING THE DATASETS IN THE SPECIFIED DIRECTORY #\n",
      "data_dir = '/Users/Chris/Documents/26 UC Berkeley/03 Courses/STAT 222/stat_222_chris_carmona/data/'\n",
      "\n",
      "# FOR SAVING THE RESULTS IN THE SPECIFIED DIRECTORY #\n",
      "out_dir = '/Users/Chris/Documents/26 UC Berkeley/03 Courses/STAT 222/stat_222_chris_carmona/output/'\n",
      "\n",
      "# Portfolio file #\n",
      "port_file = 'port_2013-12.csv'\n",
      "\n",
      "# Date of Calculation #\n",
      "calc_date = '2013-12-30'\n",
      "calc_date = datetime.strptime(calc_date,'%Y-%m-%d')\n"
     ],
     "language": "python",
     "metadata": {},
     "outputs": [],
     "prompt_number": 2
    },
    {
     "cell_type": "heading",
     "level": 2,
     "metadata": {},
     "source": [
      "Portfolio loading"
     ]
    },
    {
     "cell_type": "markdown",
     "metadata": {},
     "source": [
      "The portfolio is loaded from a .csv file containing two columns:\n",
      "\n",
      "1. ID of each instrument in position\n",
      "2. Position: depending on the instrument it can be position in foreign currency or face value of bond holding"
     ]
    },
    {
     "cell_type": "code",
     "collapsed": false,
     "input": [
      "# Portfolio #\n",
      "#port = pd.read_csv( data_dir + port_file , na_values=['','NA','na','NaN','NULL'] )\n",
      "port = pd.read_csv( data_dir + port_file , na_values=['','NA','na','NaN','NULL'] )\n",
      "\n",
      "port = pd.Series(port.position.values,index=port.id_instr)\n",
      "port"
     ],
     "language": "python",
     "metadata": {},
     "outputs": [
      {
       "metadata": {},
       "output_type": "pyout",
       "prompt_number": 3,
       "text": [
        "id_instr\n",
        "USD              1000000\n",
        "CAD               900000\n",
        "EUR              7000000\n",
        "JPY             99000000\n",
        "US912796AQ20       85001\n",
        "US912796AR03       83002\n",
        "US912796AW97       50001\n",
        "US912796BA68       50001\n",
        "US912796BE80       53002\n",
        "US912796BJ77       53001\n",
        "US912796BP38       25000\n",
        "US912796BS76       50002\n",
        "US912796BT59       25001\n",
        "US912796BU23       60001\n",
        "US912796BV06       60001\n",
        "...\n",
        "CA135087ZC17     9000.0\n",
        "CA135087ZF48    11341.7\n",
        "CA135087ZL16     9900.0\n",
        "CA135087ZN71     7991.7\n",
        "CA135087ZQ03    10500.0\n",
        "CA135087ZR85    10816.2\n",
        "CA135087ZW70     8732.3\n",
        "CA135087ZX53    15600.0\n",
        "CA135087ZY37     7973.7\n",
        "CA135087A388    15300.0\n",
        "CA135087A537     8639.2\n",
        "CA135087A792    14700.0\n",
        "CA135087A958     9900.0\n",
        "CA135087B295     8100.0\n",
        "CA135087B527     9900.0\n",
        "Length: 383, dtype: float64"
       ]
      }
     ],
     "prompt_number": 3
    },
    {
     "cell_type": "heading",
     "level": 2,
     "metadata": {},
     "source": [
      "Risk Factors historical information loading"
     ]
    },
    {
     "cell_type": "heading",
     "level": 4,
     "metadata": {},
     "source": [
      "Historical Tresuries Yield Rates (Data download)"
     ]
    },
    {
     "cell_type": "markdown",
     "metadata": {},
     "source": [
      "The historical Data of yield to maturity for US government bonds is downloaded from the Department of treasury website.\n",
      "\n",
      "The data is available in xml format"
     ]
    },
    {
     "cell_type": "code",
     "collapsed": false,
     "input": [
      "for year in range(2005,2015):\n",
      "    url = 'http://www.treasury.gov/resource-center/data-chart-center/interest-rates/pages/XmlView.aspx?data=yieldyear&year=' + str(year)\n",
      "    urllib.urlretrieve(url, data_dir+\"yields_\"+str(year)+\".xml\")"
     ],
     "language": "python",
     "metadata": {},
     "outputs": [],
     "prompt_number": 4
    },
    {
     "cell_type": "heading",
     "level": 4,
     "metadata": {},
     "source": [
      "Historical Tresuries Yield Rates (reading data)"
     ]
    },
    {
     "cell_type": "markdown",
     "metadata": {},
     "source": [
      "For reading the data from the xml files I used the modile 'lxml' and 'etree'\n",
      "\n",
      "In this case, the data was stored in the 'text' property of a deeply nested label.\n",
      "\n",
      "This process dive into the levels of the xml, reads the data and finally creates a csv file with the cleaned data."
     ]
    },
    {
     "cell_type": "code",
     "collapsed": false,
     "input": [
      "nodes_names = ['GOVT_USD_USA_1m','GOVT_USD_USA_3m','GOVT_USD_USA_6m',\n",
      "               'GOVT_USD_USA_1y','GOVT_USD_USA_2y','GOVT_USD_USA_3y',\n",
      "               'GOVT_USD_USA_5y','GOVT_USD_USA_7y','GOVT_USD_USA_10y',\n",
      "               'GOVT_USD_USA_20y','GOVT_USD_USA_30y']\n",
      "nodes_names_xml = ['BC_1MONTH','BC_3MONTH','BC_6MONTH',\n",
      "                   'BC_1YEAR','BC_2YEAR','BC_3YEAR',\n",
      "                   'BC_5YEAR','BC_7YEAR','BC_10YEAR',\n",
      "                   'BC_20YEAR','BC_30YEAR']\n",
      "    \n",
      "##### Loading xml file #####\n",
      "\n",
      "def read_yields_xml(xml_file,nodes_names,nodes_names_xml):\n",
      "    doc = etree.parse(xml_file)\n",
      "    # root element: 254 elements\n",
      "    root = doc.getroot()\n",
      "    \n",
      "    rates_data = {}\n",
      "    for entries in root.findall('{http://www.w3.org/2005/Atom}entry'):    \n",
      "        for content_i in entries.find('{http://www.w3.org/2005/Atom}content'):\n",
      "            row_i = {}\n",
      "            for property_i in content_i.getchildren():\n",
      "                if property_i.tag.replace('{http://schemas.microsoft.com/ado/2007/08/dataservices}','')==\"NEW_DATE\":\n",
      "                    date_i = property_i.text.replace(\"T00:00:00\",\"\")\n",
      "                else:\n",
      "                    row_i[ property_i.tag.replace('{http://schemas.microsoft.com/ado/2007/08/dataservices}','') ] = property_i.text\n",
      "            rates_data[date_i]=row_i\n",
      "    \n",
      "    #DATE=pd.DataFrame(rates_data).NEW_DATE.astype(np.string_)\n",
      "    #DATE=pd.to_datetime( DATE )\n",
      "    #rates_data = pd.DataFrame(rates_data,index=DATE)\n",
      "    #rates_data[:3]\n",
      "    \n",
      "    rates_data = pd.DataFrame(rates_data)\n",
      "    rates_data = rates_data.T\n",
      "    rates_data = rates_data.drop(['BC_30YEARDISPLAY','Id'],axis=1)\n",
      "    rates_data.rename( columns=dict( zip(nodes_names_xml,nodes_names) ),\n",
      "                      inplace=True)\n",
      "    \n",
      "    rates_data = rates_data.convert_objects(convert_numeric=True)\n",
      "    rates_data = rates_data.divide(100)\n",
      "    rates_data = rates_data[nodes_names]\n",
      "    \n",
      "    rates_data = rates_data.reindex(index=pd.to_datetime(rates_data.index))\n",
      "    return rates_data\n",
      "\n",
      "yields_data = pd.DataFrame()\n",
      "for year in range(2005,2015):\n",
      "    xml_file = data_dir + \"yields_\" + str(year) + \".xml\"\n",
      "    yields_data = pd.concat([yields_data,read_yields_xml(xml_file,nodes_names,nodes_names_xml)])\n",
      "\n",
      "yields_data = yields_data[nodes_names]\n",
      "yields_data = yields_data.convert_objects(convert_numeric=True)\n",
      "\n",
      "yields_data.to_csv(data_dir+'ytm_data.csv')\n",
      "\n",
      "yields_data"
     ],
     "language": "python",
     "metadata": {},
     "outputs": [
      {
       "html": [
        "<pre>\n",
        "&lt;class 'pandas.core.frame.DataFrame'&gt;\n",
        "DatetimeIndex: 2327 entries, 2005-01-03 00:00:00 to 2014-04-16 00:00:00\n",
        "Data columns (total 11 columns):\n",
        "GOVT_USD_USA_1m     2326  non-null values\n",
        "GOVT_USD_USA_3m     2323  non-null values\n",
        "GOVT_USD_USA_6m     2326  non-null values\n",
        "GOVT_USD_USA_1y     2326  non-null values\n",
        "GOVT_USD_USA_2y     2326  non-null values\n",
        "GOVT_USD_USA_3y     2326  non-null values\n",
        "GOVT_USD_USA_5y     2326  non-null values\n",
        "GOVT_USD_USA_7y     2326  non-null values\n",
        "GOVT_USD_USA_10y    2326  non-null values\n",
        "GOVT_USD_USA_20y    2326  non-null values\n",
        "GOVT_USD_USA_30y    2050  non-null values\n",
        "dtypes: float64(11)\n",
        "</pre>"
       ],
       "metadata": {},
       "output_type": "pyout",
       "prompt_number": 5,
       "text": [
        "<class 'pandas.core.frame.DataFrame'>\n",
        "DatetimeIndex: 2327 entries, 2005-01-03 00:00:00 to 2014-04-16 00:00:00\n",
        "Data columns (total 11 columns):\n",
        "GOVT_USD_USA_1m     2326  non-null values\n",
        "GOVT_USD_USA_3m     2323  non-null values\n",
        "GOVT_USD_USA_6m     2326  non-null values\n",
        "GOVT_USD_USA_1y     2326  non-null values\n",
        "GOVT_USD_USA_2y     2326  non-null values\n",
        "GOVT_USD_USA_3y     2326  non-null values\n",
        "GOVT_USD_USA_5y     2326  non-null values\n",
        "GOVT_USD_USA_7y     2326  non-null values\n",
        "GOVT_USD_USA_10y    2326  non-null values\n",
        "GOVT_USD_USA_20y    2326  non-null values\n",
        "GOVT_USD_USA_30y    2050  non-null values\n",
        "dtypes: float64(11)"
       ]
      }
     ],
     "prompt_number": 5
    },
    {
     "cell_type": "code",
     "collapsed": false,
     "input": [
      "# If you want to get a pdf with the YTM rates\n",
      "# Change \"if False:\" by \"if True:\"\n",
      "if False:    \n",
      "    pp = PdfPages(out_dir+'yield_curves.pdf')\n",
      "    for i in range(len(yields_data.columns)):\n",
      "        plt.plot(yields_data.index, yields_data[yields_data.columns[i]])\n",
      "        plt.legend([yields_data.columns[i]])\n",
      "        pp.savefig()\n",
      "        plt.close()\n",
      "    pp.close()"
     ],
     "language": "python",
     "metadata": {},
     "outputs": [],
     "prompt_number": 6
    },
    {
     "cell_type": "markdown",
     "metadata": {},
     "source": [
      "The following graphic shows the historical vlue of two important interest rates: the 2 year and 10 year Yield-to-maturity.\n",
      "\n",
      "This two rates are often compared as a benchmark for analizing the fixed income market."
     ]
    },
    {
     "cell_type": "code",
     "collapsed": false,
     "input": [
      "# Historical data: 2 and 10 year YTM rate \n",
      "plt.plot(yields_data.index, yields_data['GOVT_USD_USA_2y'])\n",
      "plt.plot(yields_data.index, yields_data['GOVT_USD_USA_10y'])\n",
      "plt.ylabel('Rate (%)')\n",
      "plt.xlabel('Date')\n",
      "plt.legend(['2y YTM rate','10y YTM rate'])"
     ],
     "language": "python",
     "metadata": {},
     "outputs": [
      {
       "metadata": {},
       "output_type": "pyout",
       "prompt_number": 7,
       "text": [
        "<matplotlib.legend.Legend at 0x109c447d0>"
       ]
      },
      {
       "metadata": {},
       "output_type": "display_data",
       "png": "[encoded data removed]",
       "text": [
        "<matplotlib.figure.Figure at 0x106d1fe50>"
       ]
      }
     ],
     "prompt_number": 7
    },
    {
     "cell_type": "heading",
     "level": 4,
     "metadata": {},
     "source": [
      "Transform yield rates to zero-coupon rates (Bootstrap method)"
     ]
    },
    {
     "cell_type": "markdown",
     "metadata": {},
     "source": [
      "This method is an iterative procedure for getting spot rates from given prices of coupon bonds.\n",
      "\n",
      "Suppose we have the following prices: $B_{0.5}$, $B_{1}$, $P_{1.5}$, $P_{2}$, $P_{2.5}$, $P_{3}$, ....\n",
      "\n",
      "It is easy to get spot rates from zero-coupon bonds by:\n",
      "\n",
      "$ z_t = -t * log(B_t) $\n",
      "\n",
      "for $t=0.5$ and $t=1$, we can directly obtain $z_{0.5}$ and $z_{1}$.\n",
      "\n",
      "For $t=1.5$, we can use $ P_{1.5} $ and get $B_{1.5}$ from the expression:\n",
      "$$ P_{1.5} = c * (B_{0.5}+B_{1}+B_{1.5}) + B_{1.5}$$\n",
      "then,\n",
      "$$ B_{1.5} = \\frac{1}{1+c} * ( P_{1.5} - c * (B_{0.5}+B_{1})) $$\n",
      "which is a zero-coupon bond, from which we can get $ z_{1.5} $\n",
      "\n",
      "this algorithm is repeated for t=\\{ 1.5, 2, 2.5, 3, ... \\}"
     ]
    },
    {
     "cell_type": "code",
     "collapsed": false,
     "input": [
      "\n",
      "#ytm_curve = rates_data.ix[0,].values\n",
      "\n",
      "nodes = np.array([1,3,6],dtype=np.float64)\n",
      "nodes = nodes/12\n",
      "nodes = np.append(nodes, np.array([1,2,3,5,7,10,20,30],dtype=np.float64) )\n",
      "\n",
      "def zero_from_yield_bootstrap( ytm_curve , nodes ):\n",
      "\n",
      "    nodes_old = nodes.copy()\n",
      "    nodes = np.append(0,nodes)\n",
      "    ytm_curve = np.append(0,ytm_curve)\n",
      "    \n",
      "    nodes_new = np.arange(0,max(nodes)+0.5,0.5)\n",
      "    nodes_new = np.append(nodes,nodes_new)\n",
      "    nodes_new = np.sort(nodes_new)\n",
      "    nodes_new = np.unique(nodes_new)\n",
      "        \n",
      "    f = interp1d(nodes, ytm_curve, kind='linear')\n",
      "    ytm_new = f(nodes_new)\n",
      "    ytm_new[0]=0\n",
      "    \n",
      "    ytm_new = pd.Series(ytm_new,index=nodes_new)\n",
      "    \n",
      "    zero_new = np.zeros_like(ytm_new)\n",
      "    \n",
      "    nodes_coupon = np.in1d(nodes_new,np.arange(0,max(nodes),0.5)+0.5)\n",
      "    \n",
      "    for node_i in nodes_new[nodes_coupon==False]:\n",
      "        zero_new[node_i] = (1+ytm_new[node_i]*node_i) ** (1/node_i)-1\n",
      "    zero_new[0] = 0\n",
      "    \n",
      "    \n",
      "    for node_i in nodes_new[nodes_coupon]:\n",
      "        cpn_i = ytm_new[node_i]/2\n",
      "        zero_new[node_i] = - np.log( (1 - cpn_i * np.exp(-nodes_new[ nodes_new<node_i * nodes_coupon ] * zero_new[ nodes_new<node_i * nodes_coupon ]).sum())/(1+cpn_i) ) * (1/node_i)\n",
      "\n",
      "    return zero_new[np.in1d(nodes_new,nodes_old)].values\n"
     ],
     "language": "python",
     "metadata": {},
     "outputs": [],
     "prompt_number": 8
    },
    {
     "cell_type": "markdown",
     "metadata": {},
     "source": [
      "The following process obtain the zero-coupon rate for all days in the downloaded data"
     ]
    },
    {
     "cell_type": "code",
     "collapsed": false,
     "input": [
      "zero_rates_data = yields_data.copy()\n",
      "\n",
      "#yields_data.apply(zero_from_yield_bootstrap,axis=1,nodes=nodes)\n",
      "\n",
      "for i in range(yields_data.shape[0]):\n",
      "#    print i\n",
      "    zero_rates_data.ix[i,:] = zero_from_yield_bootstrap( yields_data.ix[i,].values,nodes )\n",
      "\n",
      "\n",
      "\n",
      "zero_rates_data = zero_rates_data.dropna()\n",
      "\n",
      "zero_rates_data.to_csv(data_dir+'zero_rates_data.csv')\n",
      "\n",
      "zero_rates_data"
     ],
     "language": "python",
     "metadata": {},
     "outputs": [
      {
       "html": [
        "<pre>\n",
        "&lt;class 'pandas.core.frame.DataFrame'&gt;\n",
        "DatetimeIndex: 2047 entries, 2006-02-09 00:00:00 to 2014-04-16 00:00:00\n",
        "Data columns (total 11 columns):\n",
        "GOVT_USD_USA_1m     2047  non-null values\n",
        "GOVT_USD_USA_3m     2047  non-null values\n",
        "GOVT_USD_USA_6m     2047  non-null values\n",
        "GOVT_USD_USA_1y     2047  non-null values\n",
        "GOVT_USD_USA_2y     2047  non-null values\n",
        "GOVT_USD_USA_3y     2047  non-null values\n",
        "GOVT_USD_USA_5y     2047  non-null values\n",
        "GOVT_USD_USA_7y     2047  non-null values\n",
        "GOVT_USD_USA_10y    2047  non-null values\n",
        "GOVT_USD_USA_20y    2047  non-null values\n",
        "GOVT_USD_USA_30y    2047  non-null values\n",
        "dtypes: float64(11)\n",
        "</pre>"
       ],
       "metadata": {},
       "output_type": "pyout",
       "prompt_number": 9,
       "text": [
        "<class 'pandas.core.frame.DataFrame'>\n",
        "DatetimeIndex: 2047 entries, 2006-02-09 00:00:00 to 2014-04-16 00:00:00\n",
        "Data columns (total 11 columns):\n",
        "GOVT_USD_USA_1m     2047  non-null values\n",
        "GOVT_USD_USA_3m     2047  non-null values\n",
        "GOVT_USD_USA_6m     2047  non-null values\n",
        "GOVT_USD_USA_1y     2047  non-null values\n",
        "GOVT_USD_USA_2y     2047  non-null values\n",
        "GOVT_USD_USA_3y     2047  non-null values\n",
        "GOVT_USD_USA_5y     2047  non-null values\n",
        "GOVT_USD_USA_7y     2047  non-null values\n",
        "GOVT_USD_USA_10y    2047  non-null values\n",
        "GOVT_USD_USA_20y    2047  non-null values\n",
        "GOVT_USD_USA_30y    2047  non-null values\n",
        "dtypes: float64(11)"
       ]
      }
     ],
     "prompt_number": 9
    },
    {
     "cell_type": "code",
     "collapsed": false,
     "input": [
      "# If you want to get a pdf with the historical value of zero-rates\n",
      "# Change \"if False:\" for \"if True:\"\n",
      "if False:\n",
      "    pp = PdfPages(out_dir+'ytm_to_zero.pdf')\n",
      "    for i in range(len(zero_rates_data.index)-5,len(zero_rates_data.index)):\n",
      "        plt.plot(nodes,zero_rates_data.ix[i,],nodes,yields_data.ix[i,])\n",
      "        plt.legend(['zero-coupon continuos','ytm semiannual'])\n",
      "        pp.savefig()\n",
      "        plt.close()\n",
      "    pp.close()"
     ],
     "language": "python",
     "metadata": {},
     "outputs": [],
     "prompt_number": 10
    },
    {
     "cell_type": "markdown",
     "metadata": {},
     "source": [
      "The following graph shows the difference between the two curves:\n",
      "\n",
      "1. YTM composed semiannualy\n",
      "2. zero-coupon continuous rate\n",
      "\n",
      "Both rates are equivalent, but the quotation is different"
     ]
    },
    {
     "cell_type": "code",
     "collapsed": false,
     "input": [
      "# Comparison of a zero-coupon yield curve with YTM curve\n",
      "i = len(zero_rates_data.index)-50\n",
      "plt.plot(nodes,zero_rates_data.ix[i,],nodes,yields_data.ix[i,])\n",
      "plt.legend(['zero-coupon continuos','ytm semiannual'])\n",
      "plt.ylabel('Rate (%)')\n",
      "plt.xlabel('Term (years)')\n"
     ],
     "language": "python",
     "metadata": {},
     "outputs": [
      {
       "metadata": {},
       "output_type": "pyout",
       "prompt_number": 11,
       "text": [
        "<matplotlib.text.Text at 0x109c8a750>"
       ]
      },
      {
       "metadata": {},
       "output_type": "display_data",
       "png": "[encoded data removed]",
       "text": [
        "<matplotlib.figure.Figure at 0x109caa3d0>"
       ]
      }
     ],
     "prompt_number": 11
    },
    {
     "cell_type": "heading",
     "level": 4,
     "metadata": {},
     "source": [
      "Historical Foreign exchange rates (Data download)"
     ]
    },
    {
     "cell_type": "markdown",
     "metadata": {},
     "source": [
      "The historical Data of Currency rates is downloaded from the Federal Resevre website.\n",
      "The data is available in xml format."
     ]
    },
    {
     "cell_type": "code",
     "collapsed": false,
     "input": [
      "url_zip = 'http://www.federalreserve.gov/datadownload/Output.aspx?rel=H10&filetype=zip'\n",
      "\n",
      "##### Download zip file with data #####\n",
      "\n",
      "#import urllib\n",
      "urllib.urlretrieve(url_zip, data_dir+\"ccy.zip\")\n",
      "\n",
      "#import zipfile\n",
      "zip_file = open(data_dir+'ccy.zip', 'rb')\n",
      "z = zipfile.ZipFile(zip_file)\n",
      "#print z.namelist()\n",
      "z.extract('H10_data.xml', data_dir)"
     ],
     "language": "python",
     "metadata": {},
     "outputs": [
      {
       "metadata": {},
       "output_type": "pyout",
       "prompt_number": 12,
       "text": [
        "'/Users/Chris/Documents/26 UC Berkeley/03 Courses/STAT 222/stat_222_chris_carmona/data/H10_data.xml'"
       ]
      }
     ],
     "prompt_number": 12
    },
    {
     "cell_type": "heading",
     "level": 4,
     "metadata": {},
     "source": [
      "Historical Foreign exchange rates (Data reading)"
     ]
    },
    {
     "cell_type": "markdown",
     "metadata": {},
     "source": [
      "Equivalent to the historical data for YTM, the process for obtaining the information consists in going deep into de different levels of the xml format and find the important data.\n",
      "\n",
      "In this case, the data was embeded as an attribute for the labels 'Obs'"
     ]
    },
    {
     "cell_type": "code",
     "collapsed": false,
     "input": [
      "##### Loading xml file #####\n",
      "\n",
      "doc = etree.parse(data_dir+'H10_data.xml')\n",
      "# root element: 254 elements\n",
      "root = doc.getroot()\n",
      "\n",
      "data_set = root.find('{http://www.federalreserve.gov/structure/compact/common}DataSet')\n",
      "series = data_set.findall('{http://www.federalreserve.gov/structure/compact/H10_H10}Series')\n",
      "\n",
      "currencies = ['AUD', 'CAD', 'CHF', 'CLP', 'CNY', 'EUR', 'GBP', 'JPY', 'NOK', 'NZD', 'SEK', 'SGD']\n",
      "\n",
      "ccy_data = {}\n",
      "for serie in series:\n",
      "#    print serie.attrib['FX'] + ' ' + serie.attrib['CURRENCY'] + ' ' + serie.attrib['UNIT'] + ' ' + serie.attrib['FREQ']\n",
      "    if serie.attrib['FX'] in currencies and serie.attrib['FREQ']=='9':\n",
      "#        print serie.attrib['FX'] + ' ' + serie.attrib['CURRENCY'] + ' ' + serie.attrib['UNIT'] + ' ' + serie.attrib['FREQ']\n",
      "        row_i = {}\n",
      "        for obs in serie.findall('{http://www.federalreserve.gov/structure/compact/common}Obs'):\n",
      "            row_i[ obs.attrib['TIME_PERIOD'] ] = obs.attrib['OBS_VALUE']\n",
      "        ccy_data[serie.attrib['FX']]=row_i\n",
      "\n",
      "ccy_data = pd.DataFrame(ccy_data)\n",
      "ccy_data = ccy_data.convert_objects(convert_numeric=True)\n",
      "ccy_data[ccy_data==-9999] = float('NaN')\n",
      "ccy_data = ccy_data.reindex(index=pd.to_datetime(ccy_data.index))\n",
      "\n",
      "ccy_data.to_csv(data_dir+'currencies_data.csv')\n",
      "\n",
      "ccy_data"
     ],
     "language": "python",
     "metadata": {},
     "outputs": [
      {
       "html": [
        "<pre>\n",
        "&lt;class 'pandas.core.frame.DataFrame'&gt;\n",
        "DatetimeIndex: 11290 entries, 1971-01-04 00:00:00 to 2014-04-11 00:00:00\n",
        "Data columns (total 11 columns):\n",
        "AUD    10856  non-null values\n",
        "CAD    10869  non-null values\n",
        "CHF    10863  non-null values\n",
        "CNY    8303  non-null values\n",
        "EUR    3842  non-null values\n",
        "GBP    10863  non-null values\n",
        "JPY    10857  non-null values\n",
        "NOK    10862  non-null values\n",
        "NZD    10847  non-null values\n",
        "SEK    10862  non-null values\n",
        "SGD    8362  non-null values\n",
        "dtypes: float64(11)\n",
        "</pre>"
       ],
       "metadata": {},
       "output_type": "pyout",
       "prompt_number": 13,
       "text": [
        "<class 'pandas.core.frame.DataFrame'>\n",
        "DatetimeIndex: 11290 entries, 1971-01-04 00:00:00 to 2014-04-11 00:00:00\n",
        "Data columns (total 11 columns):\n",
        "AUD    10856  non-null values\n",
        "CAD    10869  non-null values\n",
        "CHF    10863  non-null values\n",
        "CNY    8303  non-null values\n",
        "EUR    3842  non-null values\n",
        "GBP    10863  non-null values\n",
        "JPY    10857  non-null values\n",
        "NOK    10862  non-null values\n",
        "NZD    10847  non-null values\n",
        "SEK    10862  non-null values\n",
        "SGD    8362  non-null values\n",
        "dtypes: float64(11)"
       ]
      }
     ],
     "prompt_number": 13
    },
    {
     "cell_type": "code",
     "collapsed": false,
     "input": [
      "# If you want to get a pdf with the historical value of currencies\n",
      "# Change \"if False:\" for \"if True:\"\n",
      "if False:\n",
      "    pp = PdfPages(out_dir+'currencies.pdf')\n",
      "    for i in range(len(ccy_data.columns)):\n",
      "        plt.plot(ccy_data.index, ccy_data[ccy_data.columns[i]])\n",
      "        plt.legend([ccy_data.columns[i]])\n",
      "        pp.savefig()\n",
      "        plt.close()\n",
      "    pp.close()\n",
      "ccy_data.columns"
     ],
     "language": "python",
     "metadata": {},
     "outputs": [
      {
       "metadata": {},
       "output_type": "pyout",
       "prompt_number": 14,
       "text": [
        "Index([u'AUD', u'CAD', u'CHF', u'CNY', u'EUR', u'GBP', u'JPY', u'NOK', u'NZD', u'SEK', u'SGD'], dtype=object)"
       ]
      }
     ],
     "prompt_number": 14
    },
    {
     "cell_type": "markdown",
     "metadata": {},
     "source": [
      "The following graphic shows the historical levels for a couple of foreign currencies. "
     ]
    },
    {
     "cell_type": "code",
     "collapsed": false,
     "input": [
      "# Historical data: Some currencies rates\n",
      "idx = (ccy_data.index > datetime.strptime('2003-01-01','%Y-%m-%d'))\n",
      "plt.plot(ccy_data.index[idx], ccy_data['EUR'][idx])\n",
      "plt.plot(ccy_data.index[idx], ccy_data['GBP'][idx])\n",
      "plt.ylabel('Exchange rate (ccy per USD)')\n",
      "plt.xlabel('Date')\n",
      "plt.legend(['EUR','GBP'])\n"
     ],
     "language": "python",
     "metadata": {},
     "outputs": [
      {
       "metadata": {},
       "output_type": "pyout",
       "prompt_number": 18,
       "text": [
        "<matplotlib.legend.Legend at 0x109cd3b50>"
       ]
      },
      {
       "metadata": {},
       "output_type": "display_data",
       "png": "[encoded data removed]",
       "text": [
        "<matplotlib.figure.Figure at 0x109c8cbd0>"
       ]
      }
     ],
     "prompt_number": 18
    },
    {
     "cell_type": "heading",
     "level": 4,
     "metadata": {},
     "source": [
      "Risk factors Information (Merging yield rates and currencies)"
     ]
    },
    {
     "cell_type": "markdown",
     "metadata": {},
     "source": [
      "The following process merges the two data sources: rates and currencies"
     ]
    },
    {
     "cell_type": "code",
     "collapsed": false,
     "input": [
      "risk_factors_hist = pd.merge( ccy_data, zero_rates_data, right_index=True, left_index=True,how='outer')\n",
      "\n",
      "risk_factors_hist = risk_factors_hist.dropna()\n",
      "\n",
      "risk_factors_hist.to_csv(data_dir+'factor_hist.csv')\n",
      "risk_factors_hist"
     ],
     "language": "python",
     "metadata": {},
     "outputs": [
      {
       "html": [
        "<pre>\n",
        "&lt;class 'pandas.core.frame.DataFrame'&gt;\n",
        "DatetimeIndex: 2043 entries, 2006-02-09 00:00:00 to 2014-04-11 00:00:00\n",
        "Data columns (total 22 columns):\n",
        "AUD                 2043  non-null values\n",
        "CAD                 2043  non-null values\n",
        "CHF                 2043  non-null values\n",
        "CNY                 2043  non-null values\n",
        "EUR                 2043  non-null values\n",
        "GBP                 2043  non-null values\n",
        "JPY                 2043  non-null values\n",
        "NOK                 2043  non-null values\n",
        "NZD                 2043  non-null values\n",
        "SEK                 2043  non-null values\n",
        "SGD                 2043  non-null values\n",
        "GOVT_USD_USA_1m     2043  non-null values\n",
        "GOVT_USD_USA_3m     2043  non-null values\n",
        "GOVT_USD_USA_6m     2043  non-null values\n",
        "GOVT_USD_USA_1y     2043  non-null values\n",
        "GOVT_USD_USA_2y     2043  non-null values\n",
        "GOVT_USD_USA_3y     2043  non-null values\n",
        "GOVT_USD_USA_5y     2043  non-null values\n",
        "GOVT_USD_USA_7y     2043  non-null values\n",
        "GOVT_USD_USA_10y    2043  non-null values\n",
        "GOVT_USD_USA_20y    2043  non-null values\n",
        "GOVT_USD_USA_30y    2043  non-null values\n",
        "dtypes: float64(22)\n",
        "</pre>"
       ],
       "metadata": {},
       "output_type": "pyout",
       "prompt_number": 19,
       "text": [
        "<class 'pandas.core.frame.DataFrame'>\n",
        "DatetimeIndex: 2043 entries, 2006-02-09 00:00:00 to 2014-04-11 00:00:00\n",
        "Data columns (total 22 columns):\n",
        "AUD                 2043  non-null values\n",
        "CAD                 2043  non-null values\n",
        "CHF                 2043  non-null values\n",
        "CNY                 2043  non-null values\n",
        "EUR                 2043  non-null values\n",
        "GBP                 2043  non-null values\n",
        "JPY                 2043  non-null values\n",
        "NOK                 2043  non-null values\n",
        "NZD                 2043  non-null values\n",
        "SEK                 2043  non-null values\n",
        "SGD                 2043  non-null values\n",
        "GOVT_USD_USA_1m     2043  non-null values\n",
        "GOVT_USD_USA_3m     2043  non-null values\n",
        "GOVT_USD_USA_6m     2043  non-null values\n",
        "GOVT_USD_USA_1y     2043  non-null values\n",
        "GOVT_USD_USA_2y     2043  non-null values\n",
        "GOVT_USD_USA_3y     2043  non-null values\n",
        "GOVT_USD_USA_5y     2043  non-null values\n",
        "GOVT_USD_USA_7y     2043  non-null values\n",
        "GOVT_USD_USA_10y    2043  non-null values\n",
        "GOVT_USD_USA_20y    2043  non-null values\n",
        "GOVT_USD_USA_30y    2043  non-null values\n",
        "dtypes: float64(22)"
       ]
      }
     ],
     "prompt_number": 19
    },
    {
     "cell_type": "heading",
     "level": 2,
     "metadata": {},
     "source": [
      "Descriptive Data bases"
     ]
    },
    {
     "cell_type": "markdown",
     "metadata": {},
     "source": [
      "The following databases specify additional information for each instrument according to their ID.\n",
      "\n",
      "\n",
      "**instr_info_file**\n",
      "\n",
      "Table containing the description of each instrument. i.e. for a given ID, specifies if the instrument is a currency position or a bond. If it is a bond, what type of bond it is AGENCY or GOVT, and additional information.\n",
      "\n",
      "\n",
      "**cshf_info_file**\n",
      "\n",
      "Table containing all cashflows for the bonds that can be part of the portfolio. It consists of three columns: ID, date of cashflow, and cashflow amount in USD. With one row for each cashflow date an instrument combination.\n",
      "\n",
      "\n",
      "**curves_info_file**\n",
      "\n",
      "Table containing the description of the risk factors. Remember that the risk factors are the random processes that will be stressed to valuate the portfolio under simulated scenarios.\n"
     ]
    },
    {
     "cell_type": "code",
     "collapsed": false,
     "input": [
      "# Global databases #\n",
      "\n",
      "# instruments description #\n",
      "instr_info_file = 'instr_description.csv'\n",
      "instr_info = pd.read_csv( data_dir + instr_info_file , na_values=['','NA','na','NaN','NULL'] )\n",
      "\n",
      "# Risk factors description #\n",
      "curves_info_file = 'curve_nodes_description.csv'\n",
      "curves_info = pd.read_csv( data_dir + curves_info_file , na_values=['','NA','na','NaN','NULL'] )\n",
      "\n",
      "# fixed-income instruments cashflows #\n",
      "cshf_info_file = 'instr_cashflows.csv'\n",
      "cshf_info = pd.read_csv( data_dir + cshf_info_file , na_values=['','NA','na','NaN','NULL'] )\n",
      "cshf_info['Date'] = pd.to_datetime(cshf_info['Date'])\n",
      "cshf_info = cshf_info.groupby(['id_instr','Date'])['value'].sum()\n",
      "#cshf_info"
     ],
     "language": "python",
     "metadata": {},
     "outputs": [],
     "prompt_number": 20
    },
    {
     "cell_type": "heading",
     "level": 2,
     "metadata": {},
     "source": [
      "Risk factors scenario simulation"
     ]
    },
    {
     "cell_type": "markdown",
     "metadata": {},
     "source": [
      "In the following section, we perform the simulation of risk factors.\n",
      "This task requires two basic steps:\n",
      "\n",
      "1. Estimation of the covariance matrix of risk factors using historical values and EWMA estimator\n",
      "2. Simulation of returns of risk factors using the EWMA estimation and our geometric stochastic model."
     ]
    },
    {
     "cell_type": "markdown",
     "metadata": {},
     "source": [
      "RiskMetrics model of risk factor returns: A modified random walk\n",
      "RiskMetrics methodology assumes that logarithmic returns on the risk factors follow a multivariate normal distribution conditional on dynamic volatility and covariances.\n",
      "Suppose that we have n risk factors\n",
      "Then, the process generating the changes for the i-th risk factor can be written as:\n",
      "$$ \\frac{dP_t^{(i)}}{P_t^{(i)}} = \\mu_i dt + \\sigma_i d W_t$$\n",
      "\n",
      "with\ufffc\n",
      "$$Var(dW^{(i)})=dt$$\n",
      "$$Cov(dW^{(i)},dW^{(j)})=\\rho_{i,j}dt$$\n",
      "\n",
      "It follows that the return on each asset from time t to time t+T can be written as:\n",
      "$$r_{t,T}^{(i)}=(\\mu_i-\\frac{1}{2}\\sigma_i^2)(T-t)+\\sigma_i\\epsilon_i\\sqrt{T-t}$$\n",
      "where\n",
      "$$\\epsilon_i \\sim N(0,1)$$\n",
      "$$ Cov(\\epsilon_i,\\epsilon_j)=\\rho_{i,j} $$\n",
      "\n",
      "If we incorporate the zero mean assumption we get that:\n",
      "\n",
      "$$ r_{t,T}^{(i)} = \\sigma_i \\epsilon_i \\sqrt{T-t} $$\n",
      "\n",
      "Finally, the EWMA estimation of the covariance matrix is an estimation that gives more importance to the more recent observations and the importance decrease exponentially with new observations.\n",
      "\n",
      "The parameter to control the diference in importance given to newest observations is called 'Decay factor'\n",
      "\n",
      "The i,j entrance in the matrix is given by:\n",
      "$$ \\Sigma_{i,j} = \\frac{1-\\lambda}{1-\\lambda^{m+1}}\\sum\\limits_{k=0}^{m} \\lambda^k r_{t-k}^{(i)} r_{t-k}^{(j)} $$\n",
      "\n",
      "where:\n",
      "\n",
      "$m$ is the number of observations considered for calculation\n",
      "\n",
      "$\\lambda$ is the decay factor\n",
      "\n",
      "$r_t$ risk factor return at time t"
     ]
    },
    {
     "cell_type": "code",
     "collapsed": false,
     "input": [
      "# Flip all currencies to dollars per curency\n",
      "cur_usd = ['AUD', 'EUR', 'GBP', 'NZD']\n",
      "cur_flip = list(set(currencies).difference(set(cur_usd)))\n",
      "    \n",
      "# Log-returns calculation #\n",
      "def get_logrtn(risk_factors_hist,calc_date,cur_flip):\n",
      "    # only consider 1 year and half of history\n",
      "    rtn_data = risk_factors_hist.copy()\n",
      "    rtn_data = rtn_data[ (rtn_data.index >= calc_date - timedelta(days=365*1.5+1)) & (rtn_data.index <= calc_date ) ]\n",
      "    \n",
      "    # Get rid of negative and zero values\n",
      "    rtn_data[rtn_data<=0] = float('NaN')\n",
      "    rtn_data = rtn_data.dropna()\n",
      "    \n",
      "    \n",
      "    # Flip all currencies to dollars per curency\n",
      "    for cur in cur_flip:\n",
      "        if cur in rtn_data.columns:\n",
      "            #print cur\n",
      "            rtn_data[cur] = 1/rtn_data[cur]\n",
      "    \n",
      "    # Calculate log-returns\n",
      "    rtn_data = rtn_data.apply(np.log)\n",
      "    rtn_data = rtn_data - rtn_data.shift(1)\n",
      "    rtn_data = rtn_data.dropna()\n",
      "    rtn_data.to_csv(data_dir+'logrtn_data.csv')\n",
      "    return rtn_data\n",
      "\n",
      "# Covariance estimation:\n",
      "# EWMA function\n",
      "def ewma( X, decay = 0.96):\n",
      "    x_i = np.matrix(X[0,:])\n",
      "    sigma = x_i.T * x_i\n",
      "    \n",
      "    for i in range(1,X.shape[0]) :\n",
      "        x_i = np.matrix(X[i,:])\n",
      "        sigma = decay * sigma + (1-decay) * x_i.T * x_i\n",
      "\n",
      "    return(sigma)\n",
      "\n",
      "# SIMULATE RISK FACTORS #\n",
      "\n",
      "def simulate_risk_factors( n_sim, calc_date, risk_factors_hist, cur_flip, decay=0.96, seed=0 ):\n",
      "#def get_logrtn_sim( n_sim, calc_date, risk_factors_hist, decay=0.96, seed=0 ):\n",
      "\n",
      "    # Calculate log returns\n",
      "    rtn_data = get_logrtn(risk_factors_hist,calc_date,cur_flip)\n",
      "\n",
      "    # Covariance matrix estimation\n",
      "    sigma = ewma( rtn_data.values, decay=decay )\n",
      "    # sigma\n",
      "    \n",
      "    mean = np.zeros(sigma.shape[0])\n",
      "\n",
      "    # Generate simulated log returns\n",
      "    # Simulation of log-returns (Multivariate Normal)\n",
      "    np.random.seed(seed=seed)\n",
      "    rtn_data_sim = np.random.multivariate_normal( mean, sigma, n_sim )\n",
      "    rtn_data_sim = pd.DataFrame( rtn_data_sim )\n",
      "    rtn_data_sim.columns = rtn_data.columns\n",
      "    \n",
      "    #####     Baseline scenario     #####\n",
      "    temp = risk_factors_hist.ix[calc_date,]\n",
      "    risk_factors_base = temp.copy()\n",
      "    \n",
      "    # Flip all currencies to dollars per curency\n",
      "    for cur in cur_flip:\n",
      "        if cur in risk_factors_base.index :\n",
      "            risk_factors_base[cur] = 1/risk_factors_base[cur]\n",
      "    \n",
      "    #####     Simulated scenarios     #####\n",
      "    risk_factors_sim = risk_factors_base * np.exp(rtn_data_sim)\n",
      "    \n",
      "    # Flip all currencies to their original exchange standard\n",
      "    for cur in cur_flip:\n",
      "        if cur in risk_factors_sim.columns :\n",
      "            risk_factors_sim[cur] = 1/risk_factors_sim[cur]\n",
      "            risk_factors_base[cur] = 1/risk_factors_base[cur]\n",
      "    \n",
      "    risk_factors_sim.to_csv(data_dir+'simulated_scenarios.csv')\n",
      "    risk_factors_sim\n",
      "\n",
      "    return risk_factors_sim"
     ],
     "language": "python",
     "metadata": {},
     "outputs": [],
     "prompt_number": 21
    },
    {
     "cell_type": "heading",
     "level": 4,
     "metadata": {},
     "source": [
      "Obtain Simulated scenarios"
     ]
    },
    {
     "cell_type": "code",
     "collapsed": false,
     "input": [
      "risk_factors_sim = simulate_risk_factors( n_sim=1000,\n",
      "                                         calc_date=calc_date,\n",
      "                                         risk_factors_hist=risk_factors_hist,\n",
      "                                         cur_flip=cur_flip, decay=0.96, seed=0 )\n",
      "risk_factors_sim"
     ],
     "language": "python",
     "metadata": {},
     "outputs": [
      {
       "html": [
        "<pre>\n",
        "&lt;class 'pandas.core.frame.DataFrame'&gt;\n",
        "Int64Index: 1000 entries, 0 to 999\n",
        "Data columns (total 22 columns):\n",
        "AUD                 1000  non-null values\n",
        "CAD                 1000  non-null values\n",
        "CHF                 1000  non-null values\n",
        "CNY                 1000  non-null values\n",
        "EUR                 1000  non-null values\n",
        "GBP                 1000  non-null values\n",
        "JPY                 1000  non-null values\n",
        "NOK                 1000  non-null values\n",
        "NZD                 1000  non-null values\n",
        "SEK                 1000  non-null values\n",
        "SGD                 1000  non-null values\n",
        "GOVT_USD_USA_1m     1000  non-null values\n",
        "GOVT_USD_USA_3m     1000  non-null values\n",
        "GOVT_USD_USA_6m     1000  non-null values\n",
        "GOVT_USD_USA_1y     1000  non-null values\n",
        "GOVT_USD_USA_2y     1000  non-null values\n",
        "GOVT_USD_USA_3y     1000  non-null values\n",
        "GOVT_USD_USA_5y     1000  non-null values\n",
        "GOVT_USD_USA_7y     1000  non-null values\n",
        "GOVT_USD_USA_10y    1000  non-null values\n",
        "GOVT_USD_USA_20y    1000  non-null values\n",
        "GOVT_USD_USA_30y    1000  non-null values\n",
        "dtypes: float64(22)\n",
        "</pre>"
       ],
       "metadata": {},
       "output_type": "pyout",
       "prompt_number": 22,
       "text": [
        "<class 'pandas.core.frame.DataFrame'>\n",
        "Int64Index: 1000 entries, 0 to 999\n",
        "Data columns (total 22 columns):\n",
        "AUD                 1000  non-null values\n",
        "CAD                 1000  non-null values\n",
        "CHF                 1000  non-null values\n",
        "CNY                 1000  non-null values\n",
        "EUR                 1000  non-null values\n",
        "GBP                 1000  non-null values\n",
        "JPY                 1000  non-null values\n",
        "NOK                 1000  non-null values\n",
        "NZD                 1000  non-null values\n",
        "SEK                 1000  non-null values\n",
        "SGD                 1000  non-null values\n",
        "GOVT_USD_USA_1m     1000  non-null values\n",
        "GOVT_USD_USA_3m     1000  non-null values\n",
        "GOVT_USD_USA_6m     1000  non-null values\n",
        "GOVT_USD_USA_1y     1000  non-null values\n",
        "GOVT_USD_USA_2y     1000  non-null values\n",
        "GOVT_USD_USA_3y     1000  non-null values\n",
        "GOVT_USD_USA_5y     1000  non-null values\n",
        "GOVT_USD_USA_7y     1000  non-null values\n",
        "GOVT_USD_USA_10y    1000  non-null values\n",
        "GOVT_USD_USA_20y    1000  non-null values\n",
        "GOVT_USD_USA_30y    1000  non-null values\n",
        "dtypes: float64(22)"
       ]
      }
     ],
     "prompt_number": 22
    },
    {
     "cell_type": "heading",
     "level": 2,
     "metadata": {},
     "source": [
      "Portfolio valuation"
     ]
    },
    {
     "cell_type": "markdown",
     "metadata": {},
     "source": [
      "The following section valuate the portfolio using the cashflow of each instrument and obtaining the Financial present value."
     ]
    },
    {
     "cell_type": "heading",
     "level": 4,
     "metadata": {},
     "source": [
      "Portfolio Valuation Function "
     ]
    },
    {
     "cell_type": "code",
     "collapsed": false,
     "input": [
      "\n",
      "def port_valuation_slow( risk_factors , port, instr_info, cshf_info):\n",
      "\n",
      "    port_mtm_value = np.zeros_like( port )\n",
      "    port_mtm_value.index = port.index \n",
      "    \n",
      "    # Discount factors calculation\n",
      "    discount = pd.Series( np.array(risk_factors[nodes_names].values) ,\n",
      "                         index=[ calc_date + pd.DateOffset(days=x*365) for x in nodes ] )\n",
      "    discount = np.exp(-discount * nodes)\n",
      "    discount = discount.set_value(calc_date, 1)\n",
      "    \n",
      "    for instr in port.index:\n",
      "        if instr == 'USD':\n",
      "            port_mtm_value[instr] = port[instr]\n",
      "        if instr_info.ix[instr_info.id_instr==instr,\"instr_type_01\"] == 'CURRENCY' and instr != 'USD':\n",
      "            if instr in cur_flip:\n",
      "                port_mtm_value[instr] = port[instr] / risk_factors[instr]\n",
      "            else:\n",
      "                port_mtm_value[instr] = port[instr] * risk_factors[instr]\n",
      "        if instr_info.ix[instr_info.id_instr==instr,\"instr_type_01\"] == 'BOND':\n",
      "            #print instr\n",
      "            instr_cshf_dates = cshf_info[instr].index\n",
      "            instr_cshf_dates = instr_cshf_dates[instr_cshf_dates>=calc_date]\n",
      "    \n",
      "            discount_1 = discount.reindex(index=discount.index.append(instr_cshf_dates))\n",
      "            discount_1 = discount_1.sort_index()\n",
      "            discount_1 = discount_1.interpolate(method=\"time\").dropna()\n",
      "    \n",
      "            #print cshf_info[instr]\n",
      "            #print discount_1\n",
      "            #print (cshf_info[instr] * discount_1)\n",
      "    \n",
      "            port_mtm_value[instr] = sum( ( port[instr] * (cshf_info[instr]/1000000) * discount_1 ).dropna() )\n",
      "            #print port_mtm_value[instr]\n",
      "            if instr_info.ix[instr_info.id_instr==instr,\"currency\"] != 'USD':\n",
      "                instr_ccy = instr_info.ix[instr_info.id_instr==instr,\"currency\"]\n",
      "                if instr_ccy in cur_flip:\n",
      "                    port_mtm_value[instr] = port_mtm_value[instr] / risk_factors[instr_ccy]\n",
      "                else:\n",
      "                    port_mtm_value[instr] = port_mtm_value[instr] * risk_factors[instr_ccy]\n",
      "    \n",
      "    return port_mtm_value\n"
     ],
     "language": "python",
     "metadata": {},
     "outputs": [],
     "prompt_number": 23
    },
    {
     "cell_type": "code",
     "collapsed": false,
     "input": [
      "#risk_factors = risk_factors_base.copy()\n",
      "#port\n",
      "#instr_info\n",
      "#cshf_info\n",
      "\n",
      "def port_valuation( risk_factors , port, instr_info, cshf_info,calc_date):\n",
      "    # Cash flows for bonds\n",
      "    bonds_cshf = cshf_info.ix[ port.index.values ].unstack('id_instr')\n",
      "    bonds_cshf = bonds_cshf[bonds_cshf.index>=calc_date]\n",
      "    bonds_cshf = bonds_cshf/1000000\n",
      "    bonds_cshf = bonds_cshf * port[bonds_cshf.columns]\n",
      "    \n",
      "    # Cash flows for currencies\n",
      "    ccy_cshf = port[currencies].dropna()\n",
      "    ccy_cshf = pd.DataFrame( ccy_cshf.values, index=ccy_cshf.index, columns=[calc_date] ).T\n",
      "    if 'USD' in port.index:\n",
      "        ccy_cshf['USD'] = port['USD']\n",
      "    \n",
      "    # cashflows for all the portfolio\n",
      "    port_cshf = pd.merge( ccy_cshf, bonds_cshf, left_index=True, right_index=True, how='outer' )\n",
      "    port_cshf.dropna( how='all' )\n",
      "    \n",
      "    # Discount factors calculation\n",
      "    discount = pd.Series( np.array(risk_factors[nodes_names].values) ,\n",
      "                         index=[ calc_date + pd.DateOffset(days=x*365) for x in nodes ] )\n",
      "    discount = np.exp(-discount * nodes)\n",
      "    discount = discount.set_value(calc_date, 1)\n",
      "    discount = discount.reindex( index= discount.index.append(port_cshf.index).unique() )\n",
      "    discount = discount.sort_index()\n",
      "    discount = discount.interpolate(method=\"time\")\n",
      "    discount = discount.reindex( index=port_cshf.index)\n",
      "    \n",
      "    # present value\n",
      "    port_cshf_pv = discount * port_cshf\n",
      "    \n",
      "    # present value in USD\n",
      "    ccy_instr = instr_info.ix[ instr_info.id_instr.isin(port.index), ['id_instr','currency']]\n",
      "    ccy_instr = ccy_instr.set_index('id_instr').currency\n",
      "    \n",
      "    #print port_cshf_pv.ix[:1,\"JPY\"]\n",
      "    \n",
      "    for ccy in ccy_instr[ ccy_instr != 'USD' ].unique():\n",
      "        instr_ccy = ccy_instr[ccy_instr == ccy].index.values\n",
      "        if ccy in cur_flip:\n",
      "            port_cshf_pv[instr_ccy] = port_cshf_pv[instr_ccy] / risk_factors[ccy]\n",
      "        else:\n",
      "            port_cshf_pv[instr_ccy] = port_cshf_pv[instr_ccy] * risk_factors[ccy]\n",
      "    \n",
      "    #print port_cshf_pv.ix[:1,\"JPY\"]\n",
      "    port_mtm_value = port_cshf_pv.sum(axis=0)[port.index]\n",
      "    return port_mtm_value\n"
     ],
     "language": "python",
     "metadata": {},
     "outputs": [],
     "prompt_number": 24
    },
    {
     "cell_type": "heading",
     "level": 4,
     "metadata": {},
     "source": [
      "Valuation with base scenario"
     ]
    },
    {
     "cell_type": "code",
     "collapsed": false,
     "input": [
      "#print port_valuation_slow( risk_factors_base ,port, instr_info, cshf_info)\n",
      "#print port_valuation( risk_factors_base ,port, instr_info, cshf_info)\n",
      "port_mtm_base = port_valuation(risk_factors=risk_factors_hist.ix[calc_date,],\n",
      "                               port=port,\n",
      "                               instr_info=instr_info,\n",
      "                               cshf_info=cshf_info,\n",
      "                               calc_date=calc_date)\n",
      "\n",
      "port_mtm_base\n",
      "\n",
      "risk_factors_hist.ix[calc_date,]"
     ],
     "language": "python",
     "metadata": {},
     "outputs": [
      {
       "metadata": {},
       "output_type": "pyout",
       "prompt_number": 29,
       "text": [
        "AUD                   0.892200\n",
        "CAD                   1.064000\n",
        "CHF                   0.886600\n",
        "CNY                   6.061700\n",
        "EUR                   1.381600\n",
        "GBP                   1.652200\n",
        "JPY                 105.000000\n",
        "NOK                   6.065700\n",
        "NZD                   0.821900\n",
        "SEK                   6.412700\n",
        "SGD                   1.267100\n",
        "GOVT_USD_USA_1m       0.000100\n",
        "GOVT_USD_USA_3m       0.000700\n",
        "GOVT_USD_USA_6m       0.001000\n",
        "GOVT_USD_USA_1y       0.001300\n",
        "GOVT_USD_USA_2y       0.003902\n",
        "GOVT_USD_USA_3y       0.007724\n",
        "GOVT_USD_USA_5y       0.017348\n",
        "GOVT_USD_USA_7y       0.024643\n",
        "GOVT_USD_USA_10y      0.031104\n",
        "GOVT_USD_USA_20y      0.039064\n",
        "GOVT_USD_USA_30y      0.042263\n",
        "Name: 2013-12-30 00:00:00, dtype: float64"
       ]
      }
     ],
     "prompt_number": 29
    },
    {
     "cell_type": "heading",
     "level": 4,
     "metadata": {},
     "source": [
      "Valuation with simulated scenarios"
     ]
    },
    {
     "cell_type": "code",
     "collapsed": false,
     "input": [
      "port_mtm_sim = risk_factors_sim.apply(port_valuation, axis=1, \n",
      "                                      port=port, \n",
      "                                      instr_info=instr_info, \n",
      "                                      cshf_info=cshf_info,\n",
      "                                      calc_date=calc_date)\n",
      "\n",
      "port_mtm_sim.to_csv(data_dir+'port_mtm_sim.csv')\n",
      "port_mtm_sim"
     ],
     "language": "python",
     "metadata": {},
     "outputs": [
      {
       "html": [
        "<pre>\n",
        "&lt;class 'pandas.core.frame.DataFrame'&gt;\n",
        "Int64Index: 1000 entries, 0 to 999\n",
        "Columns: 383 entries, USD to CA135087B527\n",
        "dtypes: float64(383)\n",
        "</pre>"
       ],
       "metadata": {},
       "output_type": "pyout",
       "prompt_number": 30,
       "text": [
        "<class 'pandas.core.frame.DataFrame'>\n",
        "Int64Index: 1000 entries, 0 to 999\n",
        "Columns: 383 entries, USD to CA135087B527\n",
        "dtypes: float64(383)"
       ]
      }
     ],
     "prompt_number": 30
    },
    {
     "cell_type": "heading",
     "level": 2,
     "metadata": {},
     "source": [
      "Profit and losses distribution"
     ]
    },
    {
     "cell_type": "markdown",
     "metadata": {},
     "source": [
      "Once we have the valuation for the portfolio in both, the base scenario, and the simulated scenarios, we can obtain the simulated distribution of profit and losses by obtaining the difference of them. "
     ]
    },
    {
     "cell_type": "code",
     "collapsed": false,
     "input": [
      "port_pl = port_mtm_base - port_mtm_sim\n",
      "port_pl"
     ],
     "language": "python",
     "metadata": {},
     "outputs": [
      {
       "html": [
        "<pre>\n",
        "&lt;class 'pandas.core.frame.DataFrame'&gt;\n",
        "Int64Index: 1000 entries, 0 to 999\n",
        "Columns: 383 entries, USD to CA135087B527\n",
        "dtypes: float64(383)\n",
        "</pre>"
       ],
       "metadata": {},
       "output_type": "pyout",
       "prompt_number": 31,
       "text": [
        "<class 'pandas.core.frame.DataFrame'>\n",
        "Int64Index: 1000 entries, 0 to 999\n",
        "Columns: 383 entries, USD to CA135087B527\n",
        "dtypes: float64(383)"
       ]
      }
     ],
     "prompt_number": 31
    },
    {
     "cell_type": "heading",
     "level": 2,
     "metadata": {},
     "source": [
      "Value-at-Risk (VaR) estimation"
     ]
    },
    {
     "cell_type": "markdown",
     "metadata": {},
     "source": [
      "Finally, The Value at Risk represents the p-th percentile for the distribution of profit and losses.\n",
      "\n",
      "This is a well-know and broadly used measure for assesing the risk in portfolios."
     ]
    },
    {
     "cell_type": "code",
     "collapsed": false,
     "input": [
      "# Value-at-Risk Calculation\n",
      "var_levels = np.array( [90,95,97.5,99] )\n",
      "port_var = pd.DataFrame( 0., columns=(['portfolio']+port_pl.columns.values.tolist()), index= var_levels)\n",
      "\n",
      "for i in var_levels:\n",
      "    port_var.ix[i,'portfolio'] = -np.percentile( port_pl.sum(axis=1), 100-i )\n",
      "    port_var.ix[i,1:] = -np.percentile( port_pl.values, 100-i , axis=0 )\n",
      "\n",
      "print 'Portfolio Value-at-Risk'\n",
      "print port_var.ix[:,'portfolio']\n",
      "print '\\nAll instruments 95% Value-at-Risk'\n",
      "print port_var.ix[95.,:]\n",
      "\n",
      "port_var"
     ],
     "language": "python",
     "metadata": {},
     "outputs": [
      {
       "output_type": "stream",
       "stream": "stdout",
       "text": [
        "Portfolio Value-at-Risk\n",
        "90.0     60336.944782\n",
        "95.0     74573.273333\n",
        "97.5     92676.724189\n",
        "99.0    106956.432642\n",
        "Name: portfolio, dtype: float64\n",
        "\n",
        "All instruments 95% Value-at-Risk\n",
        "portfolio       74573.273333\n",
        "USD                -0.000000\n",
        "CAD              5366.173027\n",
        "EUR             64284.022342\n",
        "JPY              7702.179255\n",
        "US912796AQ20        0.130946\n",
        "US912796AR03        0.628322\n",
        "US912796AW97        1.205395\n",
        "US912796BA68        1.989758\n",
        "US912796BE80        2.740046\n",
        "US912796BJ77        3.590347\n",
        "US912796BP38        2.190616\n",
        "US912796BS76        0.023109\n",
        "US912796BT59        2.184744\n",
        "US912796BU23        0.157135\n",
        "...\n",
        "CA135087ZC17    55.293438\n",
        "CA135087ZF48    70.429791\n",
        "CA135087ZL16    60.409990\n",
        "CA135087ZN71    48.177326\n",
        "CA135087ZQ03    65.855110\n",
        "CA135087ZR85    66.071877\n",
        "CA135087ZW70    52.341666\n",
        "CA135087ZX53    94.671512\n",
        "CA135087ZY37    47.623946\n",
        "CA135087A388    92.661270\n",
        "CA135087A537    51.913526\n",
        "CA135087A792    88.527981\n",
        "CA135087A958    59.672396\n",
        "CA135087B295    48.390606\n",
        "CA135087B527    59.142763\n",
        "Name: 95.0, Length: 384, dtype: float64\n"
       ]
      },
      {
       "html": [
        "<pre>\n",
        "&lt;class 'pandas.core.frame.DataFrame'&gt;\n",
        "Index: 4 entries, 90.0 to 99.0\n",
        "Columns: 384 entries, portfolio to CA135087B527\n",
        "dtypes: float64(384)\n",
        "</pre>"
       ],
       "metadata": {},
       "output_type": "pyout",
       "prompt_number": 32,
       "text": [
        "<class 'pandas.core.frame.DataFrame'>\n",
        "Index: 4 entries, 90.0 to 99.0\n",
        "Columns: 384 entries, portfolio to CA135087B527\n",
        "dtypes: float64(384)"
       ]
      }
     ],
     "prompt_number": 32
    },
    {
     "cell_type": "code",
     "collapsed": false,
     "input": [
      "# If you want to get a pdf with the Value-at-Risk for selected instruments\n",
      "# Change \"if False:\" by \"if True:\"\n",
      "if False:    \n",
      "    pp = PdfPages(out_dir+'pl_instr.pdf')\n",
      "    for i in range(1,382):\n",
      "        plt.hist(port_pl.ix[:,port_pl.columns.values[i]].values, 20)\n",
      "        plt.legend([port_pl.columns.values[i]])\n",
      "        pp.savefig()\n",
      "        plt.close()\n",
      "    pp.close()"
     ],
     "language": "python",
     "metadata": {},
     "outputs": [],
     "prompt_number": 33
    },
    {
     "cell_type": "code",
     "collapsed": false,
     "input": [
      "plt.hist(port_pl.ix[:,port_pl.columns.values[i]].values, 20)\n",
      "plt.ylabel('Frequency')\n",
      "plt.xlabel('Profits and Losses')\n",
      "plt.legend([port_pl.columns.values[i]])"
     ],
     "language": "python",
     "metadata": {},
     "outputs": [
      {
       "metadata": {},
       "output_type": "pyout",
       "prompt_number": 35,
       "text": [
        "<matplotlib.legend.Legend at 0x11a672710>"
       ]
      },
      {
       "metadata": {},
       "output_type": "display_data",
       "png": "[encoded data removed]",
       "text": [
        "<matplotlib.figure.Figure at 0x11a672fd0>"
       ]
      }
     ],
     "prompt_number": 35
    },
    {
     "cell_type": "code",
     "collapsed": false,
     "input": [
      "# Value-at-Risk for the Portfolio\n",
      "plt.hist(port_pl.sum(axis=1), 20)\n",
      "plt.ylabel('Frequency')\n",
      "plt.xlabel('Profits and Losses')\n",
      "plt.legend(['Portfolio'])"
     ],
     "language": "python",
     "metadata": {},
     "outputs": [
      {
       "metadata": {},
       "output_type": "pyout",
       "prompt_number": 36,
       "text": [
        "<matplotlib.legend.Legend at 0x11a672690>"
       ]
      },
      {
       "metadata": {},
       "output_type": "display_data",
       "png": "[encoded data removed]",
       "text": [
        "<matplotlib.figure.Figure at 0x11a6724d0>"
       ]
      }
     ],
     "prompt_number": 36
    },
    {
     "cell_type": "heading",
     "level": 2,
     "metadata": {},
     "source": [
      "Back testing"
     ]
    },
    {
     "cell_type": "heading",
     "level": 4,
     "metadata": {},
     "source": [
      "For 2013"
     ]
    },
    {
     "cell_type": "markdown",
     "metadata": {},
     "source": [
      "In order to measure the performance of this software, I did the following analysis:\n",
      "\n",
      "1. Created a Portfolio incluiding fixed-income securities and currency deposits according to the following table:\n",
      "\n",
      "<table>\n",
      "<tr> <th>Instrument type</th> <th>Number of securities</th><th>weighting</th> </tr>\n",
      "<tr> <td>US Treasury Bills</td> <td>30</td> <td>10.04</td> </tr>\n",
      "<tr> <td>US Treasury Notes 1-5 years</td> <td>150</td> <td>38.65</td> </tr>\n",
      "<tr> <td>US Treasury Notes 5-10 years</td> <td>130</td> <td>21.12</td> </tr>\n",
      "<tr> <td>US Agencies 1-3 years</td> <td>60</td> <td>2.63</td> </tr>\n",
      "<tr> <td>CA Govt. Notes 0-3 years</td> <td>20</td> <td>1.79</td> </tr>\n",
      "<tr> <td>Euro (EUR)</td> <td>1</td> <td>11.54</td> </tr>\n",
      "<tr> <td>Sterling Pound (GBP)</td> <td>1</td><td>14.22</td> </tr>\n",
      "</table>\n",
      "\n",
      "2. Rebalancing the portfolio once each month\n",
      "\n",
      "3. Calculate the daily market value for the portfolio and obtain the real profit and losses with observed market prices (full valuation, no factor-based valuation).\n",
      "\n",
      "4. Calculate the daily Value at Risk for the aggregated portfolio and for each separated subportfolio specified in the table above.\n",
      "\n",
      "5. Calculation from Jan 01, 2013 to Dec 31, 2013"
     ]
    },
    {
     "cell_type": "heading",
     "level": 4,
     "metadata": {},
     "source": [
      "CAUTION!!! This code take several hours to be finished!!!"
     ]
    },
    {
     "cell_type": "code",
     "collapsed": false,
     "input": [
      "start = datetime(2013, 12, 4)\n",
      "end = datetime(2013, 12, 31)\n",
      "\n",
      "var_lever = 95\n",
      "\n",
      "port_var_backtest = {}\n",
      "port_mtm_backtest = {}\n",
      "\n",
      "for calc_date in pd.bdate_range(start,end):\n",
      "    if calc_date in risk_factors_hist.index:\n",
      "        port_file = 'port_' + str(calc_date.year) + '-' + str(calc_date.month).zfill(2) + '.csv'\n",
      "        port = pd.read_csv( data_dir + port_file , na_values=['','NA','na','NaN','NULL'] )\n",
      "        port = pd.Series(port.position.values,index=port.id_instr)\n",
      "        \n",
      "        print calc_date\n",
      "        risk_factors_sim = simulate_risk_factors( n_sim=1000,\n",
      "                                                 calc_date=calc_date,\n",
      "                                                 risk_factors_hist=risk_factors_hist,\n",
      "                                                 cur_flip=cur_flip, decay=0.96, seed=0 )\n",
      "        port_mtm_base = port_valuation(risk_factors=risk_factors_hist.ix[calc_date,],\n",
      "                                       port=port,\n",
      "                                       instr_info=instr_info,\n",
      "                                       cshf_info=cshf_info )\n",
      "        port_mtm_sim = risk_factors_sim.apply(port_valuation, axis=1,\n",
      "                                              port=port,\n",
      "                                              instr_info=instr_info,\n",
      "                                              cshf_info=cshf_info )\n",
      "        port_pl_sim = port_mtm_base - port_mtm_sim\n",
      "        port_mtm_backtest[calc_date] = port_mtm_base.sum()\n",
      "        port_var_backtest[calc_date] = np.percentile( port_pl_sim.sum(axis=1), 100-var_lever )\n"
     ],
     "language": "python",
     "metadata": {},
     "outputs": [
      {
       "output_type": "stream",
       "stream": "stdout",
       "text": [
        "2013-12-04 00:00:00\n",
        "2013-12-05 00:00:00"
       ]
      },
      {
       "output_type": "stream",
       "stream": "stdout",
       "text": [
        "\n",
        "2013-12-06 00:00:00"
       ]
      },
      {
       "output_type": "stream",
       "stream": "stdout",
       "text": [
        "\n",
        "2013-12-09 00:00:00"
       ]
      },
      {
       "output_type": "stream",
       "stream": "stdout",
       "text": [
        "\n",
        "2013-12-10 00:00:00"
       ]
      },
      {
       "output_type": "stream",
       "stream": "stdout",
       "text": [
        "\n",
        "2013-12-11 00:00:00"
       ]
      },
      {
       "output_type": "stream",
       "stream": "stdout",
       "text": [
        "\n",
        "2013-12-12 00:00:00"
       ]
      },
      {
       "output_type": "stream",
       "stream": "stdout",
       "text": [
        "\n",
        "2013-12-13 00:00:00"
       ]
      },
      {
       "output_type": "stream",
       "stream": "stdout",
       "text": [
        "\n",
        "2013-12-16 00:00:00"
       ]
      },
      {
       "output_type": "stream",
       "stream": "stdout",
       "text": [
        "\n",
        "2013-12-17 00:00:00"
       ]
      },
      {
       "output_type": "stream",
       "stream": "stdout",
       "text": [
        "\n",
        "2013-12-18 00:00:00"
       ]
      },
      {
       "output_type": "stream",
       "stream": "stdout",
       "text": [
        "\n",
        "2013-12-19 00:00:00"
       ]
      },
      {
       "output_type": "stream",
       "stream": "stdout",
       "text": [
        "\n",
        "2013-12-20 00:00:00"
       ]
      },
      {
       "output_type": "stream",
       "stream": "stdout",
       "text": [
        "\n",
        "2013-12-23 00:00:00"
       ]
      },
      {
       "output_type": "stream",
       "stream": "stdout",
       "text": [
        "\n",
        "2013-12-24 00:00:00"
       ]
      },
      {
       "output_type": "stream",
       "stream": "stdout",
       "text": [
        "\n",
        "2013-12-26 00:00:00"
       ]
      },
      {
       "output_type": "stream",
       "stream": "stdout",
       "text": [
        "\n",
        "2013-12-27 00:00:00"
       ]
      },
      {
       "output_type": "stream",
       "stream": "stdout",
       "text": [
        "\n",
        "2013-12-30 00:00:00"
       ]
      },
      {
       "output_type": "stream",
       "stream": "stdout",
       "text": [
        "\n",
        "2013-12-31 00:00:00"
       ]
      },
      {
       "output_type": "stream",
       "stream": "stdout",
       "text": [
        "\n"
       ]
      }
     ],
     "prompt_number": 19
    },
    {
     "cell_type": "code",
     "collapsed": false,
     "input": [
      "port_mtm_backtest = pd.Series(port_mtm_backtest)\n",
      "port_var_backtest = pd.Series(port_var_backtest)\n",
      "\n",
      "port_mtm_backtest.to_csv(out_dir+'backtesting_mtm.csv')\n",
      "port_var_backtest.to_csv(out_dir+'backtesting_var.csv')"
     ],
     "language": "python",
     "metadata": {},
     "outputs": [],
     "prompt_number": 29
    },
    {
     "cell_type": "code",
     "collapsed": false,
     "input": [
      "port_mtm_backtest = pd.read_csv( out_dir+'backtesting_mtm.csv' , na_values=['','NA','na','NaN','NULL'] , header=0, names=['Date','mtm'])\n",
      "port_var_backtest = pd.read_csv( out_dir+'backtesting_var.csv' , na_values=['','NA','na','NaN','NULL'] , header=0, names=['Date','var'])\n",
      "\n",
      "port_mtm_backtest['Date'] = pd.to_datetime(port_mtm_backtest['Date'])\n",
      "port_var_backtest['Date'] = pd.to_datetime(port_var_backtest['Date'])\n",
      "\n",
      "port_mtm_backtest = port_mtm_backtest.set_index('Date')['mtm']\n",
      "port_var_backtest = port_var_backtest.set_index('Date')['var']\n",
      "\n",
      "# Calculate observed profit and losses\n",
      "port_pl_backtest = port_mtm_backtest - port_mtm_backtest.shift(1)\n",
      "\n",
      "# Eliminate profit and losses from first day in month\n",
      "# Rebalancing portfolio effect\n",
      "\n",
      "port_pl_backtest = port_pl_backtest.drop( pd.to_datetime( [ '2013-02-01', '2013-03-01',\n",
      "                                                           '2013-04-01', '2013-05-01', '2013-06-03',\n",
      "                                                           '2013-07-01', '2013-08-01', '2013-09-03',\n",
      "                                                           '2013-10-01', '2013-11-01', '2013-12-02'] ) )\n",
      "port_pl_backtest = port_pl_backtest.dropna()\n",
      "# print port_var_backtest"
     ],
     "language": "python",
     "metadata": {},
     "outputs": [],
     "prompt_number": 38
    },
    {
     "cell_type": "code",
     "collapsed": false,
     "input": [
      "plt.plot(port_pl_backtest.index, port_pl_backtest.values/1000,\n",
      "         port_var_backtest.index, port_var_backtest.values/1000 )\n",
      "plt.ylabel('Thousands of USD')\n",
      "plt.xlabel('Date')\n",
      "plt.legend(['profit and losses','Value at Risk'])\n"
     ],
     "language": "python",
     "metadata": {},
     "outputs": [
      {
       "metadata": {},
       "output_type": "pyout",
       "prompt_number": 43,
       "text": [
        "<matplotlib.legend.Legend at 0x11a86bc10>"
       ]
      },
      {
       "metadata": {},
       "output_type": "display_data",
       "png": "[encoded data removed]",
       "text": [
        "<matplotlib.figure.Figure at 0x11a86bad0>"
       ]
      }
     ],
     "prompt_number": 43
    },
    {
     "cell_type": "markdown",
     "metadata": {},
     "source": [
      "The results from this Backtesting exercise for evaluating the historical performance of the 95% confidence Value-at-Risk shows that only about 6% of the observations fall below the estimated VaR.\n",
      "\n",
      "This is a positive result, because it means that the metodology for estimating the maximum loss in 95% of the observed market scenarios is being acurate."
     ]
    },
    {
     "cell_type": "code",
     "collapsed": false,
     "input": [],
     "language": "python",
     "metadata": {},
     "outputs": []
    }
   ],
   "metadata": {}
  }
 ]
}