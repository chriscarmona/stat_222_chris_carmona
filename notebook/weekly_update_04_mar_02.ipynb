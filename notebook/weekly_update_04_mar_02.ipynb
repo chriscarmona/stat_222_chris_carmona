{
 "metadata": {
  "name": ""
 },
 "nbformat": 3,
 "nbformat_minor": 0,
 "worksheets": [
  {
   "cells": [
    {
     "cell_type": "heading",
     "level": 1,
     "metadata": {},
     "source": [
      "Weekly update 04: Feb 24 - Mar 02, 2014\u00b6"
     ]
    },
    {
     "cell_type": "markdown",
     "metadata": {},
     "source": [
      "This week, I explored the feasible alternatives for the portfolio optimization model.\n",
      "\n",
      "It has been though to go through literature on this topic, because most of the publications are new and there is no a unifying theory on this.\n",
      "\n",
      "Some articles that I've read are not made to be implemented in practice, or at least in the context of this class. Some of them only present vague ideas and comments on why it is dificult to implement bond portfolio optimization, for instance:\n",
      "\n",
      "<ol>\n",
      "<li> Rohan Chandrasekhar. \"FIXED-INCOME PORTFOLIO OPTIMIZATION\" (2009): In his thesis presents some sections dedicated to analyse why it is difficult to apply markowitz' efficient frontier to bonds, but does not propose any solution</li>\n",
      "(https://github.com/christianu7/stat_222_chris_carmona/blob/master/documentation/Fixed-income%20portfolio%20optimization.pdf)\n",
      "\n",
      "<li>Laipply and Woida \"Optimizing fixed-income Index Funds\" only presents views on the importance of having an risk-equilibrated fixed-income portfolio benchmark, and how to follow it using Barclay's indices but does not mention how to know the composition of such indices, or how to contruct such a benchmark.</li>\n",
      "https://github.com/christianu7/stat_222_chris_carmona/blob/master/documentation/Optimizing%20fixed%20income%20index%20funds%20(Laipply%20and%20Woida)%20(Blackrock%20insights).pdf\n",
      "</ol>\n",
      "\n",
      "\n",
      "After reviewing several resources, I found some useful analysis in the following:\n",
      "<ol>\n",
      "<li> Book: \"Bond Portfolio Optimization\" by Michael Puhle (Springer, 2008) </li>\n",
      "<li> Article: Caldeira, Moura and Santos, \"Bond Portfolio Optimization, A dynamic heteroskedastic factor model approach\", 2012 </li>\n",
      "<li> Article: Korn and Koziol \"Bond Portfolio Optimization, A Risk-Return Approach\" </li>\n",
      "</ol>\n",
      "\n",
      "They have a common approach for optimizing the portfolio:\n",
      "<ul>\n",
      "<li> They all use a modified Markowitz model for portfolio optimization. This is, using the distribution for the return of instruments, in this case bonds, they compute the expected value and the covariance matrix of fictional zero-coupon bonds (fictional because the maturity remain the same in this instruments, and in real life, instruments mature). And then, they use an objective function for minimize the volatility in the portfolio given an expected desired return for the portfolio and that the sum of positions only account for a given initial wealth.</li>\n",
      "\n",
      "<li>For calculating the Expected value and covariance between fixed-income instruments, they decompose these instruments into a sum of zero-coupon bonds, and then they make a decision for choosing a model for the evolution of interest rates. The most commmon aproaches for modeling the structure of interest rate are:</li>\n",
      "<ol>\n",
      "<li> Vasicek, 1977: \"An equilibrium characterization of the term structure\" </li>\n",
      "<li> Cox, Ingersoll and Ross, 1985: \"A Theory of the Term Structure of Interest Rates\" </li>\n",
      "<li> Nelson and Siegel, 1987: \"Parsimonious Modeling of Yield Curves\"</li>\n",
      "<li> Hull and White, 1990: \"Pricing interest rate derivative securities\"</li>\n",
      "<li> Heath, Jarrow, Morton, 1992: \"Bond Pricing and the Term Structure of Interest Rates, A New Methodology for Contingent Claims Valuation\" </li>\n",
      "<li>Svenson, 1994: \"Estimating and Interpreting Forward Interest Rates\"</li>\n",
      "</ol>\n",
      "(https://github.com/christianu7/stat_222_chris_carmona/tree/master/documentation/interest%20rate%20models)\n",
      "</ul>\n",
      "\n",
      "In view of this, I decided to follow the approach developed on Puhle's book.\n",
      "\n",
      "**Problem definition:**\n",
      "The problem of the investor is to minimize the portfolio variance given an expected terminal wealth and a budget constraint.\n",
      "\n",
      "$$\\min\\limits_{N} Var(W_T)$$\n",
      "s.t.\n",
      "$$ E(W_T)=\\bar{W}_T $$\n",
      "$$\\sum\\limits_{i=1}^{n}N_iP_i=W_0$$\n",
      "\n",
      "where $W_0$ is the initial and $W_T$ is terminal wealth, $N_i$ is the quantity of asset $i$ in the portfolio, $P_i$ is the price of asset $i$, $E$ is the expectation and $Var$ is the variance operator. The desired expected terminal wealth of the investor is denoted by $W_T$\n",
      "\n",
      "At time t = 0 the investor allocates his initial wealth W0 to the $\\tau$ zero-coupon bonds:\n",
      "$$W_0=\\sum\\limits_{t=1}^{\\tau}N_tP(0,t)$$\n",
      "\n",
      "The derivation of the formulas for obtaining the optimum allocation in terms of the expected values and covariances of zero-coupon bonds can be seen in section 4.2.2 of Puhle's book.\n",
      "\n",
      "**Interest rate model: Vasicek, 1977**\n",
      " (Note: this is different than the model used for estimating yield rates from market data. In that part, as specified in weekly report 2, I will use bootstrap.)\n",
      "\n",
      "This coming week, I will apply this ethodology to real data from US-treasury bonds and evaluate the results.\n"
     ]
    },
    {
     "cell_type": "code",
     "collapsed": false,
     "input": [],
     "language": "python",
     "metadata": {},
     "outputs": []
    }
   ],
   "metadata": {}
  }
 ]
}