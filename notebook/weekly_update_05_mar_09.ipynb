{
 "metadata": {
  "name": ""
 },
 "nbformat": 3,
 "nbformat_minor": 0,
 "worksheets": [
  {
   "cells": [
    {
     "cell_type": "heading",
     "level": 1,
     "metadata": {},
     "source": [
      "Weekly update 05"
     ]
    },
    {
     "cell_type": "markdown",
     "metadata": {},
     "source": [
      "This week was important because I decided to change the main purpose of my project. \n",
      "\n",
      "The underlying topic of reseacrh remain the same: analysis of portfolios composed of fixed-income instruments and currency.\n",
      "\n",
      "Instead of implementing optimization for asset allocation, I decided to implement methodologies for market risk measurement. The motivation behind this decision is the reduced time frame for developing our project for the class. I will keep working on topics for asset allocation as a personal project, but not the class.\n",
      "\n",
      "The main objective of my project is to asses the RiskMetrics methodology for market risk calculation. My new research proposal can be found here:\n",
      "https://github.com/christianu7/stat_222_chris_carmona/blob/master/research_proposal/Risk%20measurement%20for%20portfolios%20in%20Fixed-income%20and%20Currency%20markets.pdf\n",
      "\n",
      "\n",
      "The databases that I will use remain the same:\n",
      "\n",
      "Historical data of Treasury Yield Curve Rates exchange rates (http://www.treasury.gov/resource-center/data-chart-center/interest-rates/Pages/TextView.aspx?data=yieldYear&year=2013)\n",
      "\n",
      "and historical data of exchange rates for several currencies (http://www.federalreserve.gov/releases/h10/hist/)\n",
      "\n",
      "I have been also learning a lot about python pandas. I purchased the book \"Python for Data Analysis\" by Wes McKinney and has been very useful.\n"
     ]
    },
    {
     "cell_type": "code",
     "collapsed": false,
     "input": [],
     "language": "python",
     "metadata": {},
     "outputs": []
    }
   ],
   "metadata": {}
  }
 ]
}